{
 "cells": [
  {
   "cell_type": "code",
   "execution_count": 1,
   "metadata": {},
   "outputs": [],
   "source": [
    "import pandas as pd\n",
    "text = [\"Test tEst teSt tesT\" for _ in range(100000)]\n",
    "df = pd.DataFrame()\n",
    "df['text'] = text"
   ]
  },
  {
   "cell_type": "code",
   "execution_count": 2,
   "metadata": {},
   "outputs": [],
   "source": [
    "import time\n",
    "\n",
    "res1 = []\n",
    "for i in range(100):\n",
    "    start = time.time()\n",
    "    df['text'].apply(lambda x: x.lower())\n",
    "    res1.append(time.time()-start)"
   ]
  },
  {
   "cell_type": "code",
   "execution_count": 3,
   "metadata": {},
   "outputs": [],
   "source": [
    "res2 = []\n",
    "for i in range(100):\n",
    "    start = time.time()\n",
    "    list(map(str.lower, df['text']))\n",
    "    res2.append(time.time()-start)"
   ]
  },
  {
   "cell_type": "code",
   "execution_count": 4,
   "metadata": {},
   "outputs": [
    {
     "data": {
      "text/plain": [
       "(0.015693368911743163, 0.01052215576171875)"
      ]
     },
     "execution_count": 4,
     "metadata": {},
     "output_type": "execute_result"
    }
   ],
   "source": [
    "import numpy as np\n",
    "np.mean(res1), np.mean(res2)"
   ]
  },
  {
   "cell_type": "code",
   "execution_count": 8,
   "metadata": {},
   "outputs": [
    {
     "data": {
      "text/plain": [
       "(array([56., 13.,  4.,  3.,  1.,  1., 12.,  9.,  0.,  1.]),\n",
       " array([0.00797725, 0.00911179, 0.01024632, 0.01138086, 0.0125154 ,\n",
       "        0.01364994, 0.01478448, 0.01591902, 0.01705356, 0.0181881 ,\n",
       "        0.01932263]),\n",
       " <a list of 10 Patch objects>)"
      ]
     },
     "execution_count": 8,
     "metadata": {},
     "output_type": "execute_result"
    },
    {
     "data": {
      "image/png": "[encoded data removed]",
      "text/plain": [
       "<Figure size 432x288 with 1 Axes>"
      ]
     },
     "metadata": {},
     "output_type": "display_data"
    }
   ],
   "source": [
    "%matplotlib inline\n",
    "import matplotlib.pyplot as plt\n",
    "import math\n",
    "\n",
    "plt.hist(res1)\n",
    "plt.hist(res2)"
   ]
  },
  {
   "cell_type": "code",
   "execution_count": 9,
   "metadata": {},
   "outputs": [],
   "source": [
    "from keras.preprocessing.text import Tokenizer"
   ]
  },
  {
   "cell_type": "code",
   "execution_count": 10,
   "metadata": {},
   "outputs": [],
   "source": [
    "import pandas as pd\n",
    "df = pd.read_json(\"gathering/happy.json\")"
   ]
  },
  {
   "cell_type": "code",
   "execution_count": 11,
   "metadata": {},
   "outputs": [
    {
     "data": {
      "text/html": [
       "<div>\n",
       "<style scoped>\n",
       "    .dataframe tbody tr th:only-of-type {\n",
       "        vertical-align: middle;\n",
       "    }\n",
       "\n",
       "    .dataframe tbody tr th {\n",
       "        vertical-align: top;\n",
       "    }\n",
       "\n",
       "    .dataframe thead th {\n",
       "        text-align: right;\n",
       "    }\n",
       "</style>\n",
       "<table border=\"1\" class=\"dataframe\">\n",
       "  <thead>\n",
       "    <tr style=\"text-align: right;\">\n",
       "      <th></th>\n",
       "      <th>fullname</th>\n",
       "      <th>html</th>\n",
       "      <th>id</th>\n",
       "      <th>likes</th>\n",
       "      <th>replies</th>\n",
       "      <th>retweets</th>\n",
       "      <th>text</th>\n",
       "      <th>timestamp</th>\n",
       "      <th>url</th>\n",
       "      <th>user</th>\n",
       "    </tr>\n",
       "  </thead>\n",
       "  <tbody>\n",
       "    <tr>\n",
       "      <th>0</th>\n",
       "      <td>はぁ｡</td>\n",
       "      <td>&lt;p class=\"TweetTextSize js-tweet-text tweet-te...</td>\n",
       "      <td>1033865886099103744</td>\n",
       "      <td>0</td>\n",
       "      <td>0</td>\n",
       "      <td>0</td>\n",
       "      <td>昨日のましゃみたいにパーカーの上から重ね着ね\\nメガホンもセットで\\n逆にライブでしか着れないね</td>\n",
       "      <td>2018-08-26 23:56:50</td>\n",
       "      <td>/mashazuki91/status/1033865886099103744</td>\n",
       "      <td>mashazuki91</td>\n",
       "    </tr>\n",
       "    <tr>\n",
       "      <th>1</th>\n",
       "      <td>みずたまり</td>\n",
       "      <td>&lt;p class=\"TweetTextSize js-tweet-text tweet-te...</td>\n",
       "      <td>1033865876817100800</td>\n",
       "      <td>0</td>\n",
       "      <td>0</td>\n",
       "      <td>0</td>\n",
       "      <td>こちら夏休みは終わりましたが夏休みの課題は終わってないのでスニョンと一緒にがんばろ〜〜〜〜絶...</td>\n",
       "      <td>2018-08-26 23:56:47</td>\n",
       "      <td>/nrsrnh/status/1033865876817100800</td>\n",
       "      <td>nrsrnh</td>\n",
       "    </tr>\n",
       "    <tr>\n",
       "      <th>2</th>\n",
       "      <td>かんちぇらら</td>\n",
       "      <td>&lt;p class=\"TweetTextSize js-tweet-text tweet-te...</td>\n",
       "      <td>1033865871679057920</td>\n",
       "      <td>0</td>\n",
       "      <td>0</td>\n",
       "      <td>0</td>\n",
       "      <td>蒼さん、復帰おめでとうございます\\n今日も１日、頑張ってください　くれぐれも無理しないで行き...</td>\n",
       "      <td>2018-08-26 23:56:46</td>\n",
       "      <td>/rodbksk154/status/1033865871679057921</td>\n",
       "      <td>rodbksk154</td>\n",
       "    </tr>\n",
       "    <tr>\n",
       "      <th>3</th>\n",
       "      <td>弾丸ツーリング</td>\n",
       "      <td>&lt;p class=\"TweetTextSize js-tweet-text tweet-te...</td>\n",
       "      <td>1033865860375445504</td>\n",
       "      <td>0</td>\n",
       "      <td>0</td>\n",
       "      <td>0</td>\n",
       "      <td>@atsukann123 年中熱燗さん、おはようございます\\nメッセージ採用おめでとうござい...</td>\n",
       "      <td>2018-08-26 23:56:44</td>\n",
       "      <td>/DANGAN_TOURING/status/1033865860375445505</td>\n",
       "      <td>DANGAN_TOURING</td>\n",
       "    </tr>\n",
       "    <tr>\n",
       "      <th>4</th>\n",
       "      <td>かずひろここ</td>\n",
       "      <td>&lt;p class=\"TweetTextSize js-tweet-text tweet-te...</td>\n",
       "      <td>1033865858924208128</td>\n",
       "      <td>0</td>\n",
       "      <td>0</td>\n",
       "      <td>0</td>\n",
       "      <td>おはようございます静岡公演のレポ楽しく読ませていただきましたありがとうございました 次はすぐ...</td>\n",
       "      <td>2018-08-26 23:56:43</td>\n",
       "      <td>/kakahirococo/status/1033865858924208128</td>\n",
       "      <td>kakahirococo</td>\n",
       "    </tr>\n",
       "  </tbody>\n",
       "</table>\n",
       "</div>"
      ],
      "text/plain": [
       "  fullname                                               html  \\\n",
       "0      はぁ｡  <p class=\"TweetTextSize js-tweet-text tweet-te...   \n",
       "1    みずたまり  <p class=\"TweetTextSize js-tweet-text tweet-te...   \n",
       "2   かんちぇらら  <p class=\"TweetTextSize js-tweet-text tweet-te...   \n",
       "3  弾丸ツーリング  <p class=\"TweetTextSize js-tweet-text tweet-te...   \n",
       "4   かずひろここ  <p class=\"TweetTextSize js-tweet-text tweet-te...   \n",
       "\n",
       "                    id  likes  replies  retweets  \\\n",
       "0  1033865886099103744      0        0         0   \n",
       "1  1033865876817100800      0        0         0   \n",
       "2  1033865871679057920      0        0         0   \n",
       "3  1033865860375445504      0        0         0   \n",
       "4  1033865858924208128      0        0         0   \n",
       "\n",
       "                                                text           timestamp  \\\n",
       "0   昨日のましゃみたいにパーカーの上から重ね着ね\\nメガホンもセットで\\n逆にライブでしか着れないね 2018-08-26 23:56:50   \n",
       "1  こちら夏休みは終わりましたが夏休みの課題は終わってないのでスニョンと一緒にがんばろ〜〜〜〜絶... 2018-08-26 23:56:47   \n",
       "2  蒼さん、復帰おめでとうございます\\n今日も１日、頑張ってください　くれぐれも無理しないで行き... 2018-08-26 23:56:46   \n",
       "3  @atsukann123 年中熱燗さん、おはようございます\\nメッセージ採用おめでとうござい... 2018-08-26 23:56:44   \n",
       "4  おはようございます静岡公演のレポ楽しく読ませていただきましたありがとうございました 次はすぐ... 2018-08-26 23:56:43   \n",
       "\n",
       "                                          url            user  \n",
       "0     /mashazuki91/status/1033865886099103744     mashazuki91  \n",
       "1          /nrsrnh/status/1033865876817100800          nrsrnh  \n",
       "2      /rodbksk154/status/1033865871679057921      rodbksk154  \n",
       "3  /DANGAN_TOURING/status/1033865860375445505  DANGAN_TOURING  \n",
       "4    /kakahirococo/status/1033865858924208128    kakahirococo  "
      ]
     },
     "execution_count": 11,
     "metadata": {},
     "output_type": "execute_result"
    }
   ],
   "source": [
    "df.head()"
   ]
  },
  {
   "cell_type": "code",
   "execution_count": 15,
   "metadata": {},
   "outputs": [],
   "source": [
    "targets = df['text']"
   ]
  },
  {
   "cell_type": "code",
   "execution_count": 13,
   "metadata": {},
   "outputs": [],
   "source": [
    "tokenizer = Tokenizer(num_words=1000, filters=\"\", char_level=True)"
   ]
  },
  {
   "cell_type": "code",
   "execution_count": 16,
   "metadata": {},
   "outputs": [],
   "source": [
    "tokenizer.fit_on_texts(targets)"
   ]
  },
  {
   "cell_type": "code",
   "execution_count": 19,
   "metadata": {},
   "outputs": [
    {
     "data": {
      "text/plain": [
       "[273,\n",
       " 51,\n",
       " 10,\n",
       " 8,\n",
       " 3,\n",
       " 55,\n",
       " 58,\n",
       " 7,\n",
       " 2,\n",
       " 16,\n",
       " 179,\n",
       " 19,\n",
       " 125,\n",
       " 19,\n",
       " 10,\n",
       " 188,\n",
       " 13,\n",
       " 27,\n",
       " 542,\n",
       " 33,\n",
       " 346,\n",
       " 33,\n",
       " 1,\n",
       " 142,\n",
       " 251,\n",
       " 256,\n",
       " 44,\n",
       " 21,\n",
       " 262,\n",
       " 80,\n",
       " 73,\n",
       " 4,\n",
       " 1,\n",
       " 812,\n",
       " 16,\n",
       " 79,\n",
       " 59,\n",
       " 163,\n",
       " 4,\n",
       " 3,\n",
       " 13,\n",
       " 346,\n",
       " 35,\n",
       " 12,\n",
       " 2,\n",
       " 33]"
      ]
     },
     "execution_count": 19,
     "metadata": {},
     "output_type": "execute_result"
    }
   ],
   "source": [
    "tokenizer.texts_to_sequences(df['text'].iloc[:1])[0]"
   ]
  },
  {
   "cell_type": "code",
   "execution_count": 20,
   "metadata": {},
   "outputs": [
    {
     "data": {
      "text/plain": [
       "'昨日のましゃみたいにパーカーの上から重ね着ね\\nメガホンもセットで\\n逆にライブでしか着れないね'"
      ]
     },
     "execution_count": 20,
     "metadata": {},
     "output_type": "execute_result"
    }
   ],
   "source": [
    "targets.iloc[0]"
   ]
  },
  {
   "cell_type": "code",
   "execution_count": null,
   "metadata": {},
   "outputs": [],
   "source": []
  }
 ],
 "metadata": {
  "kernelspec": {
   "display_name": "Python 3",
   "language": "python",
   "name": "python3"
  },
  "language_info": {
   "codemirror_mode": {
    "name": "ipython",
    "version": 3
   },
   "file_extension": ".py",
   "mimetype": "text/x-python",
   "name": "python",
   "nbconvert_exporter": "python",
   "pygments_lexer": "ipython3",
   "version": "3.6.5"
  }
 },
 "nbformat": 4,
 "nbformat_minor": 2
}
