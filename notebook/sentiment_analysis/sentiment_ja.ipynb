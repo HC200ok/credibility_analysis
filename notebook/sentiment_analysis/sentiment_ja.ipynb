{
 "cells": [
  {
   "cell_type": "code",
   "execution_count": 1,
   "metadata": {},
   "outputs": [],
   "source": [
    "import pandas as pd\n",
    "import json"
   ]
  },
  {
   "cell_type": "code",
   "execution_count": 8,
   "metadata": {},
   "outputs": [],
   "source": [
    "data = []\n",
    "#olddata\n",
    "with open(\"happy.json\", \"r\") as f:\n",
    "    data.append(json.load(f))\n",
    "    \n",
    "with open(\"sad.json\", \"r\") as f:\n",
    "    data.append(json.load(f))"
   ]
  },
  {
   "cell_type": "code",
   "execution_count": 9,
   "metadata": {},
   "outputs": [
    {
     "data": {
      "text/html": [
       "<div>\n",
       "<style scoped>\n",
       "    .dataframe tbody tr th:only-of-type {\n",
       "        vertical-align: middle;\n",
       "    }\n",
       "\n",
       "    .dataframe tbody tr th {\n",
       "        vertical-align: top;\n",
       "    }\n",
       "\n",
       "    .dataframe thead th {\n",
       "        text-align: right;\n",
       "    }\n",
       "</style>\n",
       "<table border=\"1\" class=\"dataframe\">\n",
       "  <thead>\n",
       "    <tr style=\"text-align: right;\">\n",
       "      <th></th>\n",
       "      <th>fullname</th>\n",
       "      <th>html</th>\n",
       "      <th>id</th>\n",
       "      <th>likes</th>\n",
       "      <th>replies</th>\n",
       "      <th>retweets</th>\n",
       "      <th>text</th>\n",
       "      <th>timestamp</th>\n",
       "      <th>url</th>\n",
       "      <th>user</th>\n",
       "      <th>label</th>\n",
       "    </tr>\n",
       "  </thead>\n",
       "  <tbody>\n",
       "    <tr>\n",
       "      <th>0</th>\n",
       "      <td>はぁ｡</td>\n",
       "      <td>&lt;p class=\"TweetTextSize js-tweet-text tweet-te...</td>\n",
       "      <td>1033865886099103744</td>\n",
       "      <td>0</td>\n",
       "      <td>0</td>\n",
       "      <td>0</td>\n",
       "      <td>昨日のましゃみたいにパーカーの上から重ね着ね\\nメガホンもセットで\\n逆にライブでしか着れないね</td>\n",
       "      <td>2018-08-26T23:56:50</td>\n",
       "      <td>/mashazuki91/status/1033865886099103744</td>\n",
       "      <td>mashazuki91</td>\n",
       "      <td>True</td>\n",
       "    </tr>\n",
       "    <tr>\n",
       "      <th>1</th>\n",
       "      <td>みずたまり</td>\n",
       "      <td>&lt;p class=\"TweetTextSize js-tweet-text tweet-te...</td>\n",
       "      <td>1033865876817100800</td>\n",
       "      <td>0</td>\n",
       "      <td>0</td>\n",
       "      <td>0</td>\n",
       "      <td>こちら夏休みは終わりましたが夏休みの課題は終わってないのでスニョンと一緒にがんばろ〜〜〜〜絶...</td>\n",
       "      <td>2018-08-26T23:56:47</td>\n",
       "      <td>/nrsrnh/status/1033865876817100800</td>\n",
       "      <td>nrsrnh</td>\n",
       "      <td>True</td>\n",
       "    </tr>\n",
       "    <tr>\n",
       "      <th>2</th>\n",
       "      <td>かんちぇらら</td>\n",
       "      <td>&lt;p class=\"TweetTextSize js-tweet-text tweet-te...</td>\n",
       "      <td>1033865871679057921</td>\n",
       "      <td>0</td>\n",
       "      <td>0</td>\n",
       "      <td>0</td>\n",
       "      <td>蒼さん、復帰おめでとうございます\\n今日も１日、頑張ってください　くれぐれも無理しないで行き...</td>\n",
       "      <td>2018-08-26T23:56:46</td>\n",
       "      <td>/rodbksk154/status/1033865871679057921</td>\n",
       "      <td>rodbksk154</td>\n",
       "      <td>True</td>\n",
       "    </tr>\n",
       "    <tr>\n",
       "      <th>3</th>\n",
       "      <td>弾丸ツーリング</td>\n",
       "      <td>&lt;p class=\"TweetTextSize js-tweet-text tweet-te...</td>\n",
       "      <td>1033865860375445505</td>\n",
       "      <td>0</td>\n",
       "      <td>0</td>\n",
       "      <td>0</td>\n",
       "      <td>@atsukann123 年中熱燗さん、おはようございます\\nメッセージ採用おめでとうござい...</td>\n",
       "      <td>2018-08-26T23:56:44</td>\n",
       "      <td>/DANGAN_TOURING/status/1033865860375445505</td>\n",
       "      <td>DANGAN_TOURING</td>\n",
       "      <td>True</td>\n",
       "    </tr>\n",
       "    <tr>\n",
       "      <th>4</th>\n",
       "      <td>かずひろここ</td>\n",
       "      <td>&lt;p class=\"TweetTextSize js-tweet-text tweet-te...</td>\n",
       "      <td>1033865858924208128</td>\n",
       "      <td>0</td>\n",
       "      <td>0</td>\n",
       "      <td>0</td>\n",
       "      <td>おはようございます静岡公演のレポ楽しく読ませていただきましたありがとうございました 次はすぐ...</td>\n",
       "      <td>2018-08-26T23:56:43</td>\n",
       "      <td>/kakahirococo/status/1033865858924208128</td>\n",
       "      <td>kakahirococo</td>\n",
       "      <td>True</td>\n",
       "    </tr>\n",
       "  </tbody>\n",
       "</table>\n",
       "</div>"
      ],
      "text/plain": [
       "  fullname                                               html  \\\n",
       "0      はぁ｡  <p class=\"TweetTextSize js-tweet-text tweet-te...   \n",
       "1    みずたまり  <p class=\"TweetTextSize js-tweet-text tweet-te...   \n",
       "2   かんちぇらら  <p class=\"TweetTextSize js-tweet-text tweet-te...   \n",
       "3  弾丸ツーリング  <p class=\"TweetTextSize js-tweet-text tweet-te...   \n",
       "4   かずひろここ  <p class=\"TweetTextSize js-tweet-text tweet-te...   \n",
       "\n",
       "                    id likes replies retweets  \\\n",
       "0  1033865886099103744     0       0        0   \n",
       "1  1033865876817100800     0       0        0   \n",
       "2  1033865871679057921     0       0        0   \n",
       "3  1033865860375445505     0       0        0   \n",
       "4  1033865858924208128     0       0        0   \n",
       "\n",
       "                                                text            timestamp  \\\n",
       "0   昨日のましゃみたいにパーカーの上から重ね着ね\\nメガホンもセットで\\n逆にライブでしか着れないね  2018-08-26T23:56:50   \n",
       "1  こちら夏休みは終わりましたが夏休みの課題は終わってないのでスニョンと一緒にがんばろ〜〜〜〜絶...  2018-08-26T23:56:47   \n",
       "2  蒼さん、復帰おめでとうございます\\n今日も１日、頑張ってください　くれぐれも無理しないで行き...  2018-08-26T23:56:46   \n",
       "3  @atsukann123 年中熱燗さん、おはようございます\\nメッセージ採用おめでとうござい...  2018-08-26T23:56:44   \n",
       "4  おはようございます静岡公演のレポ楽しく読ませていただきましたありがとうございました 次はすぐ...  2018-08-26T23:56:43   \n",
       "\n",
       "                                          url            user  label  \n",
       "0     /mashazuki91/status/1033865886099103744     mashazuki91   True  \n",
       "1          /nrsrnh/status/1033865876817100800          nrsrnh   True  \n",
       "2      /rodbksk154/status/1033865871679057921      rodbksk154   True  \n",
       "3  /DANGAN_TOURING/status/1033865860375445505  DANGAN_TOURING   True  \n",
       "4    /kakahirococo/status/1033865858924208128    kakahirococo   True  "
      ]
     },
     "execution_count": 9,
     "metadata": {},
     "output_type": "execute_result"
    }
   ],
   "source": [
    "dfs = []\n",
    "labels = [True, False]\n",
    "for l, d in zip(labels, data):\n",
    "    tmp = pd.DataFrame(d)\n",
    "    tmp['label'] = l\n",
    "    dfs.append(tmp)\n",
    "df = pd.concat(dfs)\n",
    "df.head()"
   ]
  },
  {
   "cell_type": "code",
   "execution_count": 10,
   "metadata": {},
   "outputs": [
    {
     "data": {
      "text/plain": [
       "(4.187675374229528, 2.5968390943517847)"
      ]
     },
     "execution_count": 10,
     "metadata": {},
     "output_type": "execute_result"
    }
   ],
   "source": [
    "df[df['label'] == True]['likes'].astype(int).mean(), df[df['label'] == False]['likes'].astype(int).mean()"
   ]
  },
  {
   "cell_type": "code",
   "execution_count": 14,
   "metadata": {},
   "outputs": [],
   "source": [
    "import MeCab"
   ]
  },
  {
   "cell_type": "code",
   "execution_count": 13,
   "metadata": {},
   "outputs": [
    {
     "name": "stderr",
     "output_type": "stream",
     "text": [
      "/opt/conda/lib/python3.6/site-packages/h5py/__init__.py:36: FutureWarning: Conversion of the second argument of issubdtype from `float` to `np.floating` is deprecated. In future, it will be treated as `np.float64 == np.dtype(float).type`.\n",
      "  from ._conv import register_converters as _register_converters\n"
     ]
    }
   ],
   "source": [
    "from sklearn.utils import shuffle\n",
    "import tensorflow as tf\n",
    "import tensorflow_hub as hub\n",
    "import numpy as np\n",
    "from sklearn.model_selection import cross_val_score\n",
    "from sklearn.linear_model import LogisticRegression\n",
    "from sklearn.pipeline import Pipeline\n",
    "from sklearn.feature_extraction.text import TfidfVectorizer"
   ]
  },
  {
   "cell_type": "code",
   "execution_count": 15,
   "metadata": {},
   "outputs": [],
   "source": [
    "df = shuffle(df)\n",
    "\n",
    "X = df['text'].tolist()\n",
    "y = df['label'].tolist()\n",
    "tagger = MeCab.Tagger(\"-Owakati\")\n",
    "\n",
    "X = list(map(tagger.parse, X))"
   ]
  },
  {
   "cell_type": "code",
   "execution_count": 16,
   "metadata": {},
   "outputs": [
    {
     "name": "stdout",
     "output_type": "stream",
     "text": [
      "INFO:tensorflow:Using /tmp/tfhub_modules to cache modules.\n",
      "INFO:tensorflow:Initialize variable module/embeddings/part_0:0 from checkpoint b'/tmp/tfhub_modules/32f2b2259e1cc8ca58c876921748361283e73997/variables/variables' with embeddings\n",
      "INFO:tensorflow:Initialize variable module/embeddings/part_0:0 from checkpoint b'/tmp/tfhub_modules/32f2b2259e1cc8ca58c876921748361283e73997/variables/variables' with embeddings\n",
      "INFO:tensorflow:Initialize variable module/embeddings/part_0:0 from checkpoint b'/tmp/tfhub_modules/32f2b2259e1cc8ca58c876921748361283e73997/variables/variables' with embeddings\n",
      "INFO:tensorflow:Initialize variable module/embeddings/part_0:0 from checkpoint b'/tmp/tfhub_modules/32f2b2259e1cc8ca58c876921748361283e73997/variables/variables' with embeddings\n",
      "INFO:tensorflow:Initialize variable module/embeddings/part_0:0 from checkpoint b'/tmp/tfhub_modules/32f2b2259e1cc8ca58c876921748361283e73997/variables/variables' with embeddings\n",
      "INFO:tensorflow:Initialize variable module/embeddings/part_0:0 from checkpoint b'/tmp/tfhub_modules/32f2b2259e1cc8ca58c876921748361283e73997/variables/variables' with embeddings\n"
     ]
    },
    {
     "data": {
      "text/plain": [
       "0.7439102564102563"
      ]
     },
     "execution_count": 16,
     "metadata": {},
     "output_type": "execute_result"
    }
   ],
   "source": [
    "class  TfIdfWord2VecVectorizer:\n",
    "    def __init__(self):\n",
    "        pass\n",
    "\n",
    "    def fit(self, X, y):\n",
    "        self.tfidf_model = TfidfVectorizer(min_df=3, max_df=20000).fit(X)\n",
    "        return self\n",
    "\n",
    "    def transform(self, X):\n",
    "        return self.tfidf_and_w2v(X, self.tfidf_model)\n",
    "\n",
    "    def texts_encoder(self, texts):\n",
    "        with tf.Graph().as_default():\n",
    "            embed = hub.Module(\"https://tfhub.dev/google/nnlm-en-dim128/1\")\n",
    "            embeddings = embed(texts)\n",
    "            with tf.Session() as sess:\n",
    "                sess.run(tf.global_variables_initializer())\n",
    "                sess.run(tf.tables_initializer())\n",
    "                result = sess.run(embeddings)\n",
    "        return result\n",
    "\n",
    "    def tfidf_and_w2v(self, X, tfidf_model):\n",
    "        tmp = tfidf_model.transform(X)\n",
    "        a = tmp.toarray()\n",
    "        if isinstance(X, pd.core.series.Series):\n",
    "            X = X.tolist()\n",
    "        b = self.texts_encoder(X)\n",
    "        return np.hstack((a, b))\n",
    "\n",
    "pipe = Pipeline([('vector',TfIdfWord2VecVectorizer()), (\"clf\", LogisticRegression(penalty='l2'))])\n",
    "np.mean(cross_val_score(pipe, X, y, cv=3))"
   ]
  },
  {
   "cell_type": "code",
   "execution_count": 17,
   "metadata": {},
   "outputs": [],
   "source": [
    "from sklearn.model_selection import train_test_split\n",
    "X_train, X_test, y_train, y_test = train_test_split(X, y)"
   ]
  },
  {
   "cell_type": "code",
   "execution_count": 18,
   "metadata": {},
   "outputs": [
    {
     "name": "stdout",
     "output_type": "stream",
     "text": [
      "INFO:tensorflow:Initialize variable module/embeddings/part_0:0 from checkpoint b'/tmp/tfhub_modules/32f2b2259e1cc8ca58c876921748361283e73997/variables/variables' with embeddings\n"
     ]
    },
    {
     "data": {
      "text/plain": [
       "Pipeline(memory=None,\n",
       "     steps=[('vector', <__main__.TfIdfWord2VecVectorizer object at 0x7f67abb2cfd0>), ('clf', LogisticRegression(C=1.0, class_weight=None, dual=False, fit_intercept=True,\n",
       "          intercept_scaling=1, max_iter=100, multi_class='ovr', n_jobs=1,\n",
       "          penalty='l2', random_state=None, solver='liblinear', tol=0.0001,\n",
       "          verbose=0, warm_start=False))])"
      ]
     },
     "execution_count": 18,
     "metadata": {},
     "output_type": "execute_result"
    }
   ],
   "source": [
    "pipe.fit(X_train, y_train)"
   ]
  },
  {
   "cell_type": "code",
   "execution_count": 19,
   "metadata": {},
   "outputs": [
    {
     "name": "stdout",
     "output_type": "stream",
     "text": [
      "INFO:tensorflow:Initialize variable module/embeddings/part_0:0 from checkpoint b'/tmp/tfhub_modules/32f2b2259e1cc8ca58c876921748361283e73997/variables/variables' with embeddings\n"
     ]
    }
   ],
   "source": [
    "y_pred = pipe.predict(X_test)"
   ]
  },
  {
   "cell_type": "code",
   "execution_count": 20,
   "metadata": {},
   "outputs": [],
   "source": [
    "from sklearn.metrics import classification_report"
   ]
  },
  {
   "cell_type": "code",
   "execution_count": 23,
   "metadata": {},
   "outputs": [
    {
     "name": "stdout",
     "output_type": "stream",
     "text": [
      "             precision    recall  f1-score   support\n",
      "\n",
      "      False       0.76      0.71      0.73      1594\n",
      "       True       0.71      0.76      0.74      1526\n",
      "\n",
      "avg / total       0.74      0.73      0.73      3120\n",
      "\n"
     ]
    }
   ],
   "source": [
    "print(classification_report(y_test, y_pred))"
   ]
  },
  {
   "cell_type": "code",
   "execution_count": 26,
   "metadata": {},
   "outputs": [],
   "source": [
    "from sklearn.metrics import roc_auc_score\n"
   ]
  },
  {
   "cell_type": "code",
   "execution_count": 32,
   "metadata": {},
   "outputs": [
    {
     "data": {
      "text/plain": [
       "0.7348744719302891"
      ]
     },
     "execution_count": 32,
     "metadata": {},
     "output_type": "execute_result"
    }
   ],
   "source": [
    "auc = roc_auc_score(y_test, y_pred)\n",
    "auc"
   ]
  },
  {
   "cell_type": "code",
   "execution_count": 28,
   "metadata": {},
   "outputs": [],
   "source": [
    "from sklearn.metrics import roc_curve\n",
    "fpr, tpr, _ = roc_curve(y_test, y_pred)"
   ]
  },
  {
   "cell_type": "code",
   "execution_count": 33,
   "metadata": {},
   "outputs": [
    {
     "data": {
      "image/png": "[encoded data removed]",
      "text/plain": [
       "<Figure size 432x288 with 1 Axes>"
      ]
     },
     "metadata": {},
     "output_type": "display_data"
    }
   ],
   "source": [
    "%matplotlib inline\n",
    "import matplotlib.pyplot as plt\n",
    "\n",
    "plt.figure()\n",
    "lw = 2\n",
    "plt.plot(fpr, tpr, color='darkorange',\n",
    "         lw=lw, label='ROC curve (area = %0.2f)' % auc)\n",
    "plt.plot([0, 1], [0, 1], color='navy', lw=lw, linestyle='--')\n",
    "plt.xlim([0.0, 1.0])\n",
    "plt.ylim([0.0, 1.05])\n",
    "plt.xlabel('False Positive Rate')\n",
    "plt.ylabel('True Positive Rate')\n",
    "plt.legend(loc=\"lower right\")\n",
    "plt.show()"
   ]
  },
  {
   "cell_type": "code",
   "execution_count": null,
   "metadata": {},
   "outputs": [],
   "source": []
  }
 ],
 "metadata": {
  "kernelspec": {
   "display_name": "Python 3",
   "language": "python",
   "name": "python3"
  },
  "language_info": {
   "codemirror_mode": {
    "name": "ipython",
    "version": 3
   },
   "file_extension": ".py",
   "mimetype": "text/x-python",
   "name": "python",
   "nbconvert_exporter": "python",
   "pygments_lexer": "ipython3",
   "version": "3.6.5"
  }
 },
 "nbformat": 4,
 "nbformat_minor": 2
}
