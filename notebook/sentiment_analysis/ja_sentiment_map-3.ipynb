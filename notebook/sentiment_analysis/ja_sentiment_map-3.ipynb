{
 "cells": [
  {
   "cell_type": "code",
   "execution_count": 29,
   "metadata": {},
   "outputs": [
    {
     "name": "stderr",
     "output_type": "stream",
     "text": [
      "/opt/conda/lib/python3.6/site-packages/IPython/core/interactiveshell.py:2785: DtypeWarning: Columns (4,5) have mixed types. Specify dtype option on import or set low_memory=False.\n",
      "  interactivity=interactivity, compiler=compiler, result=result)\n"
     ]
    },
    {
     "data": {
      "text/html": [
       "<div>\n",
       "<style scoped>\n",
       "    .dataframe tbody tr th:only-of-type {\n",
       "        vertical-align: middle;\n",
       "    }\n",
       "\n",
       "    .dataframe tbody tr th {\n",
       "        vertical-align: top;\n",
       "    }\n",
       "\n",
       "    .dataframe thead th {\n",
       "        text-align: right;\n",
       "    }\n",
       "</style>\n",
       "<table border=\"1\" class=\"dataframe\">\n",
       "  <thead>\n",
       "    <tr style=\"text-align: right;\">\n",
       "      <th></th>\n",
       "      <th>coordinates</th>\n",
       "      <th>date</th>\n",
       "      <th>text</th>\n",
       "      <th>user</th>\n",
       "      <th>strength</th>\n",
       "      <th>emotion</th>\n",
       "      <th>date_day</th>\n",
       "      <th>date_hour</th>\n",
       "    </tr>\n",
       "  </thead>\n",
       "  <tbody>\n",
       "    <tr>\n",
       "      <th>23</th>\n",
       "      <td>(37.270590000000006, 138.86116)</td>\n",
       "      <td>2018-08-27 10:31:06</td>\n",
       "      <td>え？(´⊙ω⊙`)ちびまる子ちゃんのさくらももこさんが？</td>\n",
       "      <td>tare_ilya</td>\n",
       "      <td>0.0699287</td>\n",
       "      <td>4</td>\n",
       "      <td>2018-08-27</td>\n",
       "      <td>2018-08-27 10</td>\n",
       "    </tr>\n",
       "    <tr>\n",
       "      <th>28</th>\n",
       "      <td>(35.85718, 139.65079)</td>\n",
       "      <td>2018-08-27 10:31:08</td>\n",
       "      <td>あら～さくらももこ亡くなったのか</td>\n",
       "      <td>hiro5616</td>\n",
       "      <td>0.0642522</td>\n",
       "      <td>5</td>\n",
       "      <td>2018-08-27</td>\n",
       "      <td>2018-08-27 10</td>\n",
       "    </tr>\n",
       "    <tr>\n",
       "      <th>58</th>\n",
       "      <td>(35.6895, 139.69163999999998)</td>\n",
       "      <td>2018-08-27 10:31:13</td>\n",
       "      <td>さくらももこさん亡くなったの？！</td>\n",
       "      <td>yuuhi___h</td>\n",
       "      <td>0.0608087</td>\n",
       "      <td>5</td>\n",
       "      <td>2018-08-27</td>\n",
       "      <td>2018-08-27 10</td>\n",
       "    </tr>\n",
       "    <tr>\n",
       "      <th>74</th>\n",
       "      <td>(35.6895, 139.69163999999998)</td>\n",
       "      <td>2018-08-27 10:31:15</td>\n",
       "      <td>さくらももこさん😭😭\\nお悔やみ申し上げます😭😭</td>\n",
       "      <td>pororontamy</td>\n",
       "      <td>0.048624</td>\n",
       "      <td>1</td>\n",
       "      <td>2018-08-27</td>\n",
       "      <td>2018-08-27 10</td>\n",
       "    </tr>\n",
       "    <tr>\n",
       "      <th>76</th>\n",
       "      <td>(34.69119, 135.18311)</td>\n",
       "      <td>2018-08-27 10:31:15</td>\n",
       "      <td>RT @okasanman: ｢ちびまる子ちゃん｣の作者で漫画家の さくらももこさん(53)...</td>\n",
       "      <td>hiumajin2</td>\n",
       "      <td>0.139176</td>\n",
       "      <td>4</td>\n",
       "      <td>2018-08-27</td>\n",
       "      <td>2018-08-27 10</td>\n",
       "    </tr>\n",
       "  </tbody>\n",
       "</table>\n",
       "</div>"
      ],
      "text/plain": [
       "                        coordinates                date  \\\n",
       "23  (37.270590000000006, 138.86116) 2018-08-27 10:31:06   \n",
       "28            (35.85718, 139.65079) 2018-08-27 10:31:08   \n",
       "58    (35.6895, 139.69163999999998) 2018-08-27 10:31:13   \n",
       "74    (35.6895, 139.69163999999998) 2018-08-27 10:31:15   \n",
       "76            (34.69119, 135.18311) 2018-08-27 10:31:15   \n",
       "\n",
       "                                                 text         user   strength  \\\n",
       "23                       え？(´⊙ω⊙`)ちびまる子ちゃんのさくらももこさんが？    tare_ilya  0.0699287   \n",
       "28                                   あら～さくらももこ亡くなったのか     hiro5616  0.0642522   \n",
       "58                                   さくらももこさん亡くなったの？！    yuuhi___h  0.0608087   \n",
       "74                           さくらももこさん😭😭\\nお悔やみ申し上げます😭😭  pororontamy   0.048624   \n",
       "76  RT @okasanman: ｢ちびまる子ちゃん｣の作者で漫画家の さくらももこさん(53)...    hiumajin2   0.139176   \n",
       "\n",
       "   emotion    date_day      date_hour  \n",
       "23       4  2018-08-27  2018-08-27 10  \n",
       "28       5  2018-08-27  2018-08-27 10  \n",
       "58       5  2018-08-27  2018-08-27 10  \n",
       "74       1  2018-08-27  2018-08-27 10  \n",
       "76       4  2018-08-27  2018-08-27 10  "
      ]
     },
     "execution_count": 29,
     "metadata": {},
     "output_type": "execute_result"
    }
   ],
   "source": [
    "import pandas as pd\n",
    "sample_size=30000\n",
    "df = pd.read_csv(\"data.csv\")\n",
    "df = df.dropna()\n",
    "df = df.sample(sample_size)\n",
    "df.date = pd.to_datetime(df.date)\n",
    "df[\"date_day\"] = list(map(lambda x: str(x).split()[0], df.date))\n",
    "df = df.sort_values(by=\"date\", ascending=True)\n",
    "df.head()"
   ]
  },
  {
   "cell_type": "code",
   "execution_count": 30,
   "metadata": {},
   "outputs": [],
   "source": [
    "import numpy as np\n",
    "import pandas as pd\n",
    "import math\n",
    "from math import sqrt\n",
    "from random import random\n",
    "from ast import literal_eval as make_tuple\n",
    "\n",
    "colors = [\"orange\", \"blue\", \"green\", \"red\", \"gray\", \"purple\"]\n",
    "in_colors = []\n",
    "in_coords = []\n",
    "in_dates = []\n",
    "in_infos = []\n",
    "for i, d in df.iterrows():\n",
    "    in_colors.append(colors[int(d['emotion'])])\n",
    "    in_coords.append(make_tuple(d['coordinates']))\n",
    "    in_dates.append(d['date_day'])\n",
    "    in_infos.append(d['text'])"
   ]
  },
  {
   "cell_type": "code",
   "execution_count": 31,
   "metadata": {},
   "outputs": [
    {
     "data": {
      "text/plain": [
       "[30000, 30000, 30000, 30000]"
      ]
     },
     "execution_count": 31,
     "metadata": {},
     "output_type": "execute_result"
    }
   ],
   "source": [
    "list(map(len, [in_colors,in_coords,in_dates, in_infos]))"
   ]
  },
  {
   "cell_type": "code",
   "execution_count": 34,
   "metadata": {},
   "outputs": [
    {
     "name": "stdout",
     "output_type": "stream",
     "text": [
      "The autoreload extension is already loaded. To reload it, use:\n",
      "  %reload_ext autoreload\n"
     ]
    },
    {
     "data": {
      "text/plain": [
       "True"
      ]
     },
     "execution_count": 34,
     "metadata": {},
     "output_type": "execute_result"
    }
   ],
   "source": [
    "%load_ext autoreload\n",
    "%autoreload 2\n",
    "import mapgen\n",
    "center = (38, 137)\n",
    "mapgen.plot_3(\"test_map_ver6.html\", center, in_coords, in_colors, in_dates, in_infos)"
   ]
  },
  {
   "cell_type": "code",
   "execution_count": 145,
   "metadata": {},
   "outputs": [],
   "source": [
    "import numpy as np\n",
    "import pandas as pd\n",
    "import math\n",
    "from math import sqrt\n",
    "from random import random\n",
    "from ast import literal_eval as make_tuple\n",
    "\n",
    "d = []\n",
    "rs = []\n",
    "dflag = True\n",
    "for i in range(6):\n",
    "    r = []\n",
    "    for name, group in df.groupby([\"date_day\"]):\n",
    "        if dflag:\n",
    "            d.append(sum([1 for x in group['emotion']]))\n",
    "        r.append(sum([1 for x in group['emotion'] if int(x) == i]))\n",
    "    rs.append(r)\n",
    "    dflag = False"
   ]
  },
  {
   "cell_type": "code",
   "execution_count": 146,
   "metadata": {},
   "outputs": [
    {
     "data": {
      "image/png": "[encoded data removed]",
      "text/plain": [
       "<Figure size 432x288 with 1 Axes>"
      ]
     },
     "metadata": {},
     "output_type": "display_data"
    }
   ],
   "source": [
    "%matplotlib inline\n",
    "import matplotlib.pyplot as plt\n",
    "\n",
    "plt.plot(d)\n",
    "for i in range(len(rs)):\n",
    "    plt.plot(rs[i])"
   ]
  },
  {
   "cell_type": "code",
   "execution_count": 161,
   "metadata": {},
   "outputs": [],
   "source": [
    "from burst_analysis.burst import burst"
   ]
  },
  {
   "cell_type": "code",
   "execution_count": 165,
   "metadata": {},
   "outputs": [
    {
     "ename": "CalledProcessError",
     "evalue": "Command '['./burst_analysis/burst.bin', '2', '0.1', '/tmp/1081028838849299255_burst.tmp']' died with <Signals.SIGABRT: 6>.",
     "output_type": "error",
     "traceback": [
      "\u001b[0;31m\u001b[0m",
      "\u001b[0;31mCalledProcessError\u001b[0mTraceback (most recent call last)",
      "\u001b[0;32m<ipython-input-165-2053c00b1f8e>\u001b[0m in \u001b[0;36m<module>\u001b[0;34m()\u001b[0m\n\u001b[0;32m----> 1\u001b[0;31m \u001b[0mout\u001b[0m \u001b[0;34m=\u001b[0m \u001b[0mburst\u001b[0m\u001b[0;34m(\u001b[0m\u001b[0md\u001b[0m\u001b[0;34m,\u001b[0m \u001b[0ms\u001b[0m\u001b[0;34m=\u001b[0m\u001b[0;36m2\u001b[0m\u001b[0;34m,\u001b[0m \u001b[0mgamma\u001b[0m\u001b[0;34m=\u001b[0m\u001b[0;36m0.1\u001b[0m\u001b[0;34m,\u001b[0m \u001b[0mbinfile\u001b[0m\u001b[0;34m=\u001b[0m\u001b[0;34m\"./burst_analysis/burst.bin\"\u001b[0m\u001b[0;34m)\u001b[0m\u001b[0;34m\u001b[0m\u001b[0m\n\u001b[0m",
      "\u001b[0;32m~/work/fnc_jp/notebook/sentiment_analysis/burst_analysis/burst.py\u001b[0m in \u001b[0;36mburst\u001b[0;34m(arr, s, gamma, tmpdir, binfile)\u001b[0m\n\u001b[1;32m      9\u001b[0m         \u001b[0mf\u001b[0m\u001b[0;34m.\u001b[0m\u001b[0mwrite\u001b[0m\u001b[0;34m(\u001b[0m\u001b[0;34m'\\n'\u001b[0m\u001b[0;34m.\u001b[0m\u001b[0mjoin\u001b[0m\u001b[0;34m(\u001b[0m\u001b[0mlist\u001b[0m\u001b[0;34m(\u001b[0m\u001b[0mmap\u001b[0m\u001b[0;34m(\u001b[0m\u001b[0mstr\u001b[0m\u001b[0;34m,\u001b[0m \u001b[0marr\u001b[0m\u001b[0;34m)\u001b[0m\u001b[0;34m)\u001b[0m\u001b[0;34m)\u001b[0m\u001b[0;34m)\u001b[0m\u001b[0;34m\u001b[0m\u001b[0m\n\u001b[1;32m     10\u001b[0m \u001b[0;34m\u001b[0m\u001b[0m\n\u001b[0;32m---> 11\u001b[0;31m     \u001b[0mout\u001b[0m \u001b[0;34m=\u001b[0m \u001b[0;34m[\u001b[0m\u001b[0mfloat\u001b[0m\u001b[0;34m(\u001b[0m\u001b[0mx\u001b[0m\u001b[0;34m.\u001b[0m\u001b[0mstrip\u001b[0m\u001b[0;34m(\u001b[0m\u001b[0;34m)\u001b[0m\u001b[0;34m)\u001b[0m \u001b[0;32mfor\u001b[0m \u001b[0mx\u001b[0m \u001b[0;32min\u001b[0m \u001b[0mcheck_output\u001b[0m\u001b[0;34m(\u001b[0m\u001b[0;34m[\u001b[0m\u001b[0mbinfile\u001b[0m\u001b[0;34m,\u001b[0m \u001b[0mstr\u001b[0m\u001b[0;34m(\u001b[0m\u001b[0ms\u001b[0m\u001b[0;34m)\u001b[0m\u001b[0;34m,\u001b[0m \u001b[0mstr\u001b[0m\u001b[0;34m(\u001b[0m\u001b[0mgamma\u001b[0m\u001b[0;34m)\u001b[0m\u001b[0;34m,\u001b[0m \u001b[0mtmpfile\u001b[0m\u001b[0;34m]\u001b[0m\u001b[0;34m)\u001b[0m\u001b[0;34m.\u001b[0m\u001b[0msplit\u001b[0m\u001b[0;34m(\u001b[0m\u001b[0;34m)\u001b[0m\u001b[0;34m]\u001b[0m\u001b[0;34m\u001b[0m\u001b[0m\n\u001b[0m\u001b[1;32m     12\u001b[0m     \u001b[0mremove\u001b[0m\u001b[0;34m(\u001b[0m\u001b[0mtmpfile\u001b[0m\u001b[0;34m)\u001b[0m\u001b[0;34m\u001b[0m\u001b[0m\n\u001b[1;32m     13\u001b[0m     \u001b[0;32mreturn\u001b[0m \u001b[0mout\u001b[0m\u001b[0;34m\u001b[0m\u001b[0m\n",
      "\u001b[0;32m/opt/conda/lib/python3.6/subprocess.py\u001b[0m in \u001b[0;36mcheck_output\u001b[0;34m(timeout, *popenargs, **kwargs)\u001b[0m\n\u001b[1;32m    334\u001b[0m \u001b[0;34m\u001b[0m\u001b[0m\n\u001b[1;32m    335\u001b[0m     return run(*popenargs, stdout=PIPE, timeout=timeout, check=True,\n\u001b[0;32m--> 336\u001b[0;31m                **kwargs).stdout\n\u001b[0m\u001b[1;32m    337\u001b[0m \u001b[0;34m\u001b[0m\u001b[0m\n\u001b[1;32m    338\u001b[0m \u001b[0;34m\u001b[0m\u001b[0m\n",
      "\u001b[0;32m/opt/conda/lib/python3.6/subprocess.py\u001b[0m in \u001b[0;36mrun\u001b[0;34m(input, timeout, check, *popenargs, **kwargs)\u001b[0m\n\u001b[1;32m    416\u001b[0m         \u001b[0;32mif\u001b[0m \u001b[0mcheck\u001b[0m \u001b[0;32mand\u001b[0m \u001b[0mretcode\u001b[0m\u001b[0;34m:\u001b[0m\u001b[0;34m\u001b[0m\u001b[0m\n\u001b[1;32m    417\u001b[0m             raise CalledProcessError(retcode, process.args,\n\u001b[0;32m--> 418\u001b[0;31m                                      output=stdout, stderr=stderr)\n\u001b[0m\u001b[1;32m    419\u001b[0m     \u001b[0;32mreturn\u001b[0m \u001b[0mCompletedProcess\u001b[0m\u001b[0;34m(\u001b[0m\u001b[0mprocess\u001b[0m\u001b[0;34m.\u001b[0m\u001b[0margs\u001b[0m\u001b[0;34m,\u001b[0m \u001b[0mretcode\u001b[0m\u001b[0;34m,\u001b[0m \u001b[0mstdout\u001b[0m\u001b[0;34m,\u001b[0m \u001b[0mstderr\u001b[0m\u001b[0;34m)\u001b[0m\u001b[0;34m\u001b[0m\u001b[0m\n\u001b[1;32m    420\u001b[0m \u001b[0;34m\u001b[0m\u001b[0m\n",
      "\u001b[0;31mCalledProcessError\u001b[0m: Command '['./burst_analysis/burst.bin', '2', '0.1', '/tmp/1081028838849299255_burst.tmp']' died with <Signals.SIGABRT: 6>."
     ]
    }
   ],
   "source": [
    "out = burst(d, s=2, gamma=0.1, binfile=\"./burst_analysis/burst.bin\")"
   ]
  },
  {
   "cell_type": "code",
   "execution_count": null,
   "metadata": {},
   "outputs": [],
   "source": []
  },
  {
   "cell_type": "code",
   "execution_count": null,
   "metadata": {},
   "outputs": [],
   "source": []
  }
 ],
 "metadata": {
  "kernelspec": {
   "display_name": "Python 3",
   "language": "python",
   "name": "python3"
  },
  "language_info": {
   "codemirror_mode": {
    "name": "ipython",
    "version": 3
   },
   "file_extension": ".py",
   "mimetype": "text/x-python",
   "name": "python",
   "nbconvert_exporter": "python",
   "pygments_lexer": "ipython3",
   "version": "3.6.5"
  }
 },
 "nbformat": 4,
 "nbformat_minor": 2
}
