{
 "cells": [
  {
   "cell_type": "code",
   "execution_count": 3,
   "metadata": {},
   "outputs": [
    {
     "name": "stderr",
     "output_type": "stream",
     "text": [
      "/opt/conda/lib/python3.6/site-packages/IPython/core/interactiveshell.py:2785: DtypeWarning: Columns (4,5) have mixed types. Specify dtype option on import or set low_memory=False.\n",
      "  interactivity=interactivity, compiler=compiler, result=result)\n"
     ]
    },
    {
     "data": {
      "text/html": [
       "<div>\n",
       "<style scoped>\n",
       "    .dataframe tbody tr th:only-of-type {\n",
       "        vertical-align: middle;\n",
       "    }\n",
       "\n",
       "    .dataframe tbody tr th {\n",
       "        vertical-align: top;\n",
       "    }\n",
       "\n",
       "    .dataframe thead th {\n",
       "        text-align: right;\n",
       "    }\n",
       "</style>\n",
       "<table border=\"1\" class=\"dataframe\">\n",
       "  <thead>\n",
       "    <tr style=\"text-align: right;\">\n",
       "      <th></th>\n",
       "      <th>coordinates</th>\n",
       "      <th>date</th>\n",
       "      <th>text</th>\n",
       "      <th>user</th>\n",
       "      <th>strength</th>\n",
       "      <th>emotion</th>\n",
       "      <th>date_day</th>\n",
       "      <th>date_hour</th>\n",
       "    </tr>\n",
       "  </thead>\n",
       "  <tbody>\n",
       "    <tr>\n",
       "      <th>0</th>\n",
       "      <td>(35.60456, 140.12311)</td>\n",
       "      <td>2018-08-27 10:31:03</td>\n",
       "      <td>えっっさくらももこさん??!!!??</td>\n",
       "      <td>otirisuki</td>\n",
       "      <td>0.109074</td>\n",
       "      <td>5</td>\n",
       "      <td>2018-08-27</td>\n",
       "      <td>2018-08-27 10</td>\n",
       "    </tr>\n",
       "    <tr>\n",
       "      <th>1</th>\n",
       "      <td>(35.60456, 140.12311)</td>\n",
       "      <td>2018-08-27 10:31:03</td>\n",
       "      <td>おえ？！？！？さくらももこ亡くなったの？！え？！</td>\n",
       "      <td>suzaku44411</td>\n",
       "      <td>0.131976</td>\n",
       "      <td>5</td>\n",
       "      <td>2018-08-27</td>\n",
       "      <td>2018-08-27 10</td>\n",
       "    </tr>\n",
       "    <tr>\n",
       "      <th>2</th>\n",
       "      <td>(35.60456, 140.12311)</td>\n",
       "      <td>2018-08-27 10:31:04</td>\n",
       "      <td>えっ！？\\nさくらももこが死んだ！？</td>\n",
       "      <td>amane712</td>\n",
       "      <td>0.178794</td>\n",
       "      <td>5</td>\n",
       "      <td>2018-08-27</td>\n",
       "      <td>2018-08-27 10</td>\n",
       "    </tr>\n",
       "    <tr>\n",
       "      <th>3</th>\n",
       "      <td>(36.56458, 139.88339)</td>\n",
       "      <td>2018-08-27 10:31:04</td>\n",
       "      <td>さくらももこさん亡くなってしまったの😢</td>\n",
       "      <td>ayuuumi18</td>\n",
       "      <td>0.0869896</td>\n",
       "      <td>1</td>\n",
       "      <td>2018-08-27</td>\n",
       "      <td>2018-08-27 10</td>\n",
       "    </tr>\n",
       "    <tr>\n",
       "      <th>4</th>\n",
       "      <td>(35.706590000000006, 139.86792)</td>\n",
       "      <td>2018-08-27 10:31:04</td>\n",
       "      <td>さくらももこさんが死去ってまじ？</td>\n",
       "      <td>910168</td>\n",
       "      <td>0.0943402</td>\n",
       "      <td>4</td>\n",
       "      <td>2018-08-27</td>\n",
       "      <td>2018-08-27 10</td>\n",
       "    </tr>\n",
       "  </tbody>\n",
       "</table>\n",
       "</div>"
      ],
      "text/plain": [
       "                       coordinates                date  \\\n",
       "0            (35.60456, 140.12311) 2018-08-27 10:31:03   \n",
       "1            (35.60456, 140.12311) 2018-08-27 10:31:03   \n",
       "2            (35.60456, 140.12311) 2018-08-27 10:31:04   \n",
       "3            (36.56458, 139.88339) 2018-08-27 10:31:04   \n",
       "4  (35.706590000000006, 139.86792) 2018-08-27 10:31:04   \n",
       "\n",
       "                       text         user   strength emotion    date_day  \\\n",
       "0        えっっさくらももこさん??!!!??    otirisuki   0.109074       5  2018-08-27   \n",
       "1  おえ？！？！？さくらももこ亡くなったの？！え？！  suzaku44411   0.131976       5  2018-08-27   \n",
       "2        えっ！？\\nさくらももこが死んだ！？     amane712   0.178794       5  2018-08-27   \n",
       "3       さくらももこさん亡くなってしまったの😢    ayuuumi18  0.0869896       1  2018-08-27   \n",
       "4          さくらももこさんが死去ってまじ？       910168  0.0943402       4  2018-08-27   \n",
       "\n",
       "       date_hour  \n",
       "0  2018-08-27 10  \n",
       "1  2018-08-27 10  \n",
       "2  2018-08-27 10  \n",
       "3  2018-08-27 10  \n",
       "4  2018-08-27 10  "
      ]
     },
     "execution_count": 3,
     "metadata": {},
     "output_type": "execute_result"
    }
   ],
   "source": [
    "import pandas as pd\n",
    "#sample_size=12000\n",
    "df = pd.read_csv(\"data.csv\")\n",
    "df = df.dropna()\n",
    "#df = df.sample(sample_size)\n",
    "df.date = pd.to_datetime(df.date)\n",
    "#df[\"date_day\"] = list(map(lambda x: str(x).split()[0], df.date))\n",
    "df = df.sort_values(by=\"date\", ascending=True)\n",
    "df.head()"
   ]
  },
  {
   "cell_type": "code",
   "execution_count": 33,
   "metadata": {},
   "outputs": [],
   "source": [
    "import numpy as np\n",
    "import pandas as pd\n",
    "import math\n",
    "from math import sqrt\n",
    "from random import random\n",
    "from ast import literal_eval as make_tuple\n",
    "\n",
    "colors = [\"orange\", \"blue\", \"green\", \"red\", \"gray\", \"purple\"]\n",
    "in_colors = []\n",
    "in_coords = []\n",
    "in_dates = []\n",
    "in_infos = []\n",
    "for i, d in df.iterrows():\n",
    "    in_colors.append(colors[int(d['emotion'])])\n",
    "    in_coords.append(make_tuple(d['coordinates']))\n",
    "    in_dates.append(d['date_day'])\n",
    "    in_infos.append(d['text'])"
   ]
  },
  {
   "cell_type": "code",
   "execution_count": 34,
   "metadata": {},
   "outputs": [
    {
     "data": {
      "text/plain": [
       "[12000, 12000, 12000, 12000]"
      ]
     },
     "execution_count": 34,
     "metadata": {},
     "output_type": "execute_result"
    }
   ],
   "source": [
    "list(map(len, [in_colors,in_coords,in_dates, in_infos]))"
   ]
  },
  {
   "cell_type": "code",
   "execution_count": 39,
   "metadata": {},
   "outputs": [
    {
     "name": "stdout",
     "output_type": "stream",
     "text": [
      "The autoreload extension is already loaded. To reload it, use:\n",
      "  %reload_ext autoreload\n"
     ]
    },
    {
     "data": {
      "text/plain": [
       "True"
      ]
     },
     "execution_count": 39,
     "metadata": {},
     "output_type": "execute_result"
    }
   ],
   "source": [
    "%load_ext autoreload\n",
    "%autoreload 2\n",
    "import mapgen\n",
    "center = (38, 137)\n",
    "mapgen.plot_2(\"test_map_ver4.html\", center, in_coords, in_colors, in_dates, in_infos)"
   ]
  },
  {
   "cell_type": "code",
   "execution_count": null,
   "metadata": {},
   "outputs": [],
   "source": []
  }
 ],
 "metadata": {
  "kernelspec": {
   "display_name": "Python 3",
   "language": "python",
   "name": "python3"
  },
  "language_info": {
   "codemirror_mode": {
    "name": "ipython",
    "version": 3
   },
   "file_extension": ".py",
   "mimetype": "text/x-python",
   "name": "python",
   "nbconvert_exporter": "python",
   "pygments_lexer": "ipython3",
   "version": "3.6.5"
  }
 },
 "nbformat": 4,
 "nbformat_minor": 2
}
