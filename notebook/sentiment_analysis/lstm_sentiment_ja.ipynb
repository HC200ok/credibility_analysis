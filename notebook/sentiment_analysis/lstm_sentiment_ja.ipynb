{
 "cells": [
  {
   "cell_type": "code",
   "execution_count": 1,
   "metadata": {},
   "outputs": [
    {
     "name": "stderr",
     "output_type": "stream",
     "text": [
      "/opt/conda/lib/python3.6/importlib/_bootstrap.py:219: RuntimeWarning: numpy.dtype size changed, may indicate binary incompatibility. Expected 96, got 88\n",
      "  return f(*args, **kwds)\n"
     ]
    },
    {
     "data": {
      "text/plain": [
       "(360000, 11)"
      ]
     },
     "execution_count": 1,
     "metadata": {},
     "output_type": "execute_result"
    }
   ],
   "source": [
    "import pandas as pd\n",
    "from os.path import join\n",
    "from sklearn.utils import shuffle\n",
    "\n",
    "emotions = [\"happy\", \"sad\", [\"disgust\", \"disgust2\"], \"angry\", \"fear\", \"surprise\"]\n",
    "dir_path = \"gathering/ja_tweets_sentiment\"\n",
    "size = 60000\n",
    "df = []\n",
    "for i, es in enumerate(emotions):\n",
    "    if isinstance(es, list):\n",
    "        for e in es:\n",
    "            data = shuffle(pd.read_json(join(dir_path, \"{}.json\".format(e)))).iloc[:int(size/len(es))]\n",
    "            data['label'] = i\n",
    "            df.append(data)\n",
    "    else:\n",
    "        data = shuffle(pd.read_json(join(dir_path, \"{}.json\".format(es)))).iloc[:int(size)]\n",
    "        data['label'] = i\n",
    "        df.append(data)\n",
    "\n",
    "df = pd.concat(df)\n",
    "df.shape"
   ]
  },
  {
   "cell_type": "code",
   "execution_count": 2,
   "metadata": {},
   "outputs": [],
   "source": [
    "df = shuffle(df)\n",
    "X = df['text']\n",
    "y = df['label']"
   ]
  },
  {
   "cell_type": "code",
   "execution_count": 3,
   "metadata": {},
   "outputs": [
    {
     "name": "stderr",
     "output_type": "stream",
     "text": [
      "/opt/conda/lib/python3.6/importlib/_bootstrap.py:219: RuntimeWarning: numpy.dtype size changed, may indicate binary incompatibility. Expected 96, got 88\n",
      "  return f(*args, **kwds)\n"
     ]
    }
   ],
   "source": [
    "from keras.preprocessing.text import Tokenizer\n",
    "from keras.preprocessing.sequence import pad_sequences\n",
    "from keras.utils import to_categorical\n",
    "from sklearn.model_selection import train_test_split\n",
    "\n",
    "def preprocess(data, tokenizer, maxlen=280):\n",
    "    return(pad_sequences(tokenizer.texts_to_sequences(data), maxlen=maxlen))\n",
    "\n",
    "max_features=10000\n",
    "maxlen = 280\n",
    "\n",
    "y = to_categorical(y)\n",
    "X_train, X_test, y_train, y_test = train_test_split(X, y)\n",
    "\n",
    "tokenizer = Tokenizer(num_words=max_features, filters=\"\", char_level=True)\n",
    "tokenizer.fit_on_texts(list(X_train))\n",
    "\n",
    "X_train = preprocess(X_train, tokenizer)\n",
    "X_test = preprocess(X_test, tokenizer)"
   ]
  },
  {
   "cell_type": "code",
   "execution_count": 4,
   "metadata": {},
   "outputs": [],
   "source": [
    "X_train, X_val, y_train, y_val = train_test_split(X_train, y_train)"
   ]
  },
  {
   "cell_type": "code",
   "execution_count": 5,
   "metadata": {},
   "outputs": [],
   "source": [
    "from keras.layers import Input, Dense, Embedding, Flatten\n",
    "from keras.layers import SpatialDropout1D\n",
    "from keras.layers import LSTM, Conv1D, MaxPooling1D, Bidirectional\n",
    "from keras.models import Sequential"
   ]
  },
  {
   "cell_type": "code",
   "execution_count": 24,
   "metadata": {},
   "outputs": [],
   "source": [
    "model = Sequential()\n",
    "model.add(Embedding(max_features, 256, input_length=maxlen))\n",
    "model.add(SpatialDropout1D(0.3))\n",
    "model.add(Conv1D(32, 3, activation='relu'))\n",
    "model.add(MaxPooling1D(pool_size=2))\n",
    "model.add(Conv1D(64, 3, activation=\"relu\"))\n",
    "model.add(MaxPooling1D(pool_size=2))\n",
    "model.add(Bidirectional(LSTM(100)))\n",
    "model.add(Dense(6, activation='sigmoid'))\n",
    "model.compile(loss='categorical_crossentropy', optimizer='adam', metrics=['accuracy'])"
   ]
  },
  {
   "cell_type": "code",
   "execution_count": 25,
   "metadata": {},
   "outputs": [],
   "source": [
    "epochs = 5\n",
    "batch_size = 1000"
   ]
  },
  {
   "cell_type": "code",
   "execution_count": 26,
   "metadata": {},
   "outputs": [
    {
     "name": "stdout",
     "output_type": "stream",
     "text": [
      "Train on 202500 samples, validate on 67500 samples\n",
      "Epoch 1/5\n",
      "202500/202500 [==============================] - 33s 162us/step - loss: 1.6053 - acc: 0.3136 - val_loss: 1.4775 - val_acc: 0.3943\n",
      "Epoch 2/5\n",
      "202500/202500 [==============================] - 31s 154us/step - loss: 1.4194 - acc: 0.4351 - val_loss: 1.3953 - val_acc: 0.4524\n",
      "Epoch 3/5\n",
      "202500/202500 [==============================] - 31s 155us/step - loss: 1.3494 - acc: 0.4741 - val_loss: 1.3574 - val_acc: 0.4699\n",
      "Epoch 4/5\n",
      "202500/202500 [==============================] - 31s 155us/step - loss: 1.3068 - acc: 0.4950 - val_loss: 1.3448 - val_acc: 0.4780\n",
      "Epoch 5/5\n",
      "202500/202500 [==============================] - 31s 155us/step - loss: 1.2756 - acc: 0.5105 - val_loss: 1.3335 - val_acc: 0.4815\n"
     ]
    },
    {
     "data": {
      "text/plain": [
       "<keras.callbacks.History at 0x7f0bc027a278>"
      ]
     },
     "execution_count": 26,
     "metadata": {},
     "output_type": "execute_result"
    }
   ],
   "source": [
    "model.fit(X_train, y_train, validation_data=(X_val, y_val), epochs=epochs, batch_size=batch_size)"
   ]
  },
  {
   "cell_type": "code",
   "execution_count": 27,
   "metadata": {},
   "outputs": [],
   "source": [
    "import pickle\n",
    "\n",
    "with open(\"tokenizer_cnn_ja.pkl\", \"wb\") as f:\n",
    "    pickle.dump(tokenizer, f)"
   ]
  },
  {
   "cell_type": "code",
   "execution_count": 28,
   "metadata": {},
   "outputs": [],
   "source": [
    "model.save(\"model_2018-08-29-10:37.h5\")"
   ]
  },
  {
   "cell_type": "code",
   "execution_count": 29,
   "metadata": {},
   "outputs": [],
   "source": [
    "import numpy as np\n",
    "from sklearn.metrics import classification_report\n",
    "\n",
    "emolabels = []\n",
    "for e in emotions:\n",
    "    if isinstance(e, list):\n",
    "        emolabels.append(e[0])\n",
    "    else:\n",
    "        emolabels.append(e)\n",
    "        \n",
    "y_preds = model.predict(X_test)\n",
    "y_preds = np.argmax(y_preds, axis=1)\n",
    "y_true = np.argmax(y_test, axis=1)"
   ]
  },
  {
   "cell_type": "code",
   "execution_count": 30,
   "metadata": {},
   "outputs": [
    {
     "name": "stdout",
     "output_type": "stream",
     "text": [
      "             precision    recall  f1-score   support\n",
      "\n",
      "      happy       0.51      0.60      0.55     15200\n",
      "        sad       0.58      0.53      0.55     14763\n",
      "    disgust       0.43      0.38      0.41     14897\n",
      "      angry       0.42      0.55      0.47     14948\n",
      "       fear       0.52      0.47      0.49     15211\n",
      "   surprise       0.47      0.38      0.42     14981\n",
      "\n",
      "avg / total       0.49      0.49      0.48     90000\n",
      "\n"
     ]
    }
   ],
   "source": [
    "print(classification_report(y_true, y_preds, target_names=emolabels))"
   ]
  },
  {
   "cell_type": "code",
   "execution_count": 33,
   "metadata": {},
   "outputs": [
    {
     "name": "stdout",
     "output_type": "stream",
     "text": [
      "Train on 202500 samples, validate on 67500 samples\n",
      "Epoch 1/2\n",
      "202500/202500 [==============================] - 31s 154us/step - loss: 1.2488 - acc: 0.5217 - val_loss: 1.3344 - val_acc: 0.4821\n",
      "Epoch 2/2\n",
      "202500/202500 [==============================] - 31s 154us/step - loss: 1.2261 - acc: 0.5329 - val_loss: 1.3269 - val_acc: 0.4856\n"
     ]
    },
    {
     "data": {
      "text/plain": [
       "<keras.callbacks.History at 0x7f0bc1297668>"
      ]
     },
     "execution_count": 33,
     "metadata": {},
     "output_type": "execute_result"
    }
   ],
   "source": [
    "epochs = 2\n",
    "model.fit(X_train, y_train, validation_data=(X_val, y_val), epochs=epochs, batch_size=batch_size)"
   ]
  },
  {
   "cell_type": "code",
   "execution_count": 34,
   "metadata": {},
   "outputs": [
    {
     "name": "stdout",
     "output_type": "stream",
     "text": [
      "             precision    recall  f1-score   support\n",
      "\n",
      "      happy       0.52      0.59      0.55     15200\n",
      "        sad       0.57      0.53      0.55     14763\n",
      "    disgust       0.41      0.43      0.42     14897\n",
      "      angry       0.42      0.57      0.48     14948\n",
      "       fear       0.55      0.44      0.49     15211\n",
      "   surprise       0.49      0.37      0.42     14981\n",
      "\n",
      "avg / total       0.49      0.49      0.49     90000\n",
      "\n"
     ]
    }
   ],
   "source": [
    "y_preds = model.predict(X_test)\n",
    "y_preds = np.argmax(y_preds, axis=1)\n",
    "print(classification_report(y_true, y_preds, target_names=emolabels))"
   ]
  },
  {
   "cell_type": "code",
   "execution_count": 35,
   "metadata": {},
   "outputs": [],
   "source": [
    "model.save(\"model_2018-08-29-10:43.h5\")"
   ]
  },
  {
   "cell_type": "code",
   "execution_count": 38,
   "metadata": {},
   "outputs": [
    {
     "name": "stdout",
     "output_type": "stream",
     "text": [
      "Train on 202500 samples, validate on 67500 samples\n",
      "Epoch 1/2\n",
      "202500/202500 [==============================] - 31s 153us/step - loss: 1.2061 - acc: 0.5414 - val_loss: 1.3375 - val_acc: 0.4846\n",
      "Epoch 2/2\n",
      "202500/202500 [==============================] - 31s 155us/step - loss: 1.1877 - acc: 0.5497 - val_loss: 1.3329 - val_acc: 0.4861\n"
     ]
    },
    {
     "data": {
      "text/plain": [
       "<keras.callbacks.History at 0x7f0bc0a87a20>"
      ]
     },
     "execution_count": 38,
     "metadata": {},
     "output_type": "execute_result"
    }
   ],
   "source": [
    "model.fit(X_train, y_train, validation_data=(X_val, y_val), epochs=epochs, batch_size=batch_size)"
   ]
  },
  {
   "cell_type": "code",
   "execution_count": 39,
   "metadata": {},
   "outputs": [
    {
     "name": "stdout",
     "output_type": "stream",
     "text": [
      "             precision    recall  f1-score   support\n",
      "\n",
      "      happy       0.55      0.56      0.55     15200\n",
      "        sad       0.61      0.51      0.55     14763\n",
      "    disgust       0.40      0.45      0.42     14897\n",
      "      angry       0.41      0.58      0.48     14948\n",
      "       fear       0.59      0.41      0.48     15211\n",
      "   surprise       0.46      0.44      0.45     14981\n",
      "\n",
      "avg / total       0.50      0.49      0.49     90000\n",
      "\n"
     ]
    }
   ],
   "source": [
    "y_preds = model.predict(X_test)\n",
    "y_preds = np.argmax(y_preds, axis=1)\n",
    "print(classification_report(y_true, y_preds, target_names=emolabels))"
   ]
  },
  {
   "cell_type": "code",
   "execution_count": 40,
   "metadata": {},
   "outputs": [],
   "source": [
    "model.save(\"model_2018-08-29-10:47.h5\")"
   ]
  },
  {
   "cell_type": "code",
   "execution_count": 43,
   "metadata": {},
   "outputs": [
    {
     "name": "stdout",
     "output_type": "stream",
     "text": [
      "Train on 202500 samples, validate on 67500 samples\n",
      "Epoch 1/2\n",
      "202500/202500 [==============================] - 31s 154us/step - loss: 1.1714 - acc: 0.5564 - val_loss: 1.3432 - val_acc: 0.4863\n",
      "Epoch 2/2\n",
      "202500/202500 [==============================] - 31s 154us/step - loss: 1.1574 - acc: 0.5630 - val_loss: 1.3455 - val_acc: 0.4840\n"
     ]
    },
    {
     "data": {
      "text/plain": [
       "<keras.callbacks.History at 0x7f0bc12970b8>"
      ]
     },
     "execution_count": 43,
     "metadata": {},
     "output_type": "execute_result"
    }
   ],
   "source": [
    "model.fit(X_train, y_train, validation_data=(X_val, y_val), epochs=epochs, batch_size=batch_size)"
   ]
  },
  {
   "cell_type": "code",
   "execution_count": 45,
   "metadata": {},
   "outputs": [
    {
     "name": "stdout",
     "output_type": "stream",
     "text": [
      "             precision    recall  f1-score   support\n",
      "\n",
      "      happy       0.52      0.58      0.55     15200\n",
      "        sad       0.52      0.57      0.55     14763\n",
      "    disgust       0.42      0.40      0.41     14897\n",
      "      angry       0.45      0.49      0.47     14948\n",
      "       fear       0.51      0.47      0.49     15211\n",
      "   surprise       0.48      0.41      0.44     14981\n",
      "\n",
      "avg / total       0.49      0.49      0.49     90000\n",
      "\n"
     ]
    }
   ],
   "source": [
    "y_preds = model.predict(X_test)\n",
    "y_preds = np.argmax(y_preds, axis=1)\n",
    "print(classification_report(y_true, y_preds, target_names=emolabels))"
   ]
  },
  {
   "cell_type": "code",
   "execution_count": 47,
   "metadata": {},
   "outputs": [
    {
     "name": "stdout",
     "output_type": "stream",
     "text": [
      "Train on 202500 samples, validate on 67500 samples\n",
      "Epoch 1/5\n",
      "202500/202500 [==============================] - 31s 154us/step - loss: 1.1425 - acc: 0.5682 - val_loss: 1.3663 - val_acc: 0.4792\n",
      "Epoch 2/5\n",
      "202500/202500 [==============================] - 31s 154us/step - loss: 1.1310 - acc: 0.5732 - val_loss: 1.3526 - val_acc: 0.4825\n",
      "Epoch 3/5\n",
      "202500/202500 [==============================] - 31s 154us/step - loss: 1.1189 - acc: 0.5789 - val_loss: 1.3607 - val_acc: 0.4829\n",
      "Epoch 4/5\n",
      "202500/202500 [==============================] - 31s 155us/step - loss: 1.1065 - acc: 0.5837 - val_loss: 1.3625 - val_acc: 0.4852\n",
      "Epoch 5/5\n",
      "202500/202500 [==============================] - 31s 155us/step - loss: 1.0985 - acc: 0.5880 - val_loss: 1.3749 - val_acc: 0.4801\n"
     ]
    },
    {
     "data": {
      "text/plain": [
       "<keras.callbacks.History at 0x7f0bc0a879e8>"
      ]
     },
     "execution_count": 47,
     "metadata": {},
     "output_type": "execute_result"
    }
   ],
   "source": [
    "epochs=5\n",
    "model.fit(X_train, y_train, validation_data=(X_val, y_val), epochs=epochs, batch_size=batch_size)"
   ]
  },
  {
   "cell_type": "code",
   "execution_count": 49,
   "metadata": {},
   "outputs": [
    {
     "name": "stdout",
     "output_type": "stream",
     "text": [
      "             precision    recall  f1-score   support\n",
      "\n",
      "      happy       0.57      0.50      0.53     15200\n",
      "        sad       0.59      0.52      0.55     14763\n",
      "    disgust       0.38      0.48      0.42     14897\n",
      "      angry       0.43      0.52      0.47     14948\n",
      "       fear       0.53      0.45      0.48     15211\n",
      "   surprise       0.46      0.43      0.45     14981\n",
      "\n",
      "avg / total       0.49      0.48      0.49     90000\n",
      "\n"
     ]
    }
   ],
   "source": [
    "y_preds = model.predict(X_test)\n",
    "y_preds = np.argmax(y_preds, axis=1)\n",
    "print(classification_report(y_true, y_preds, target_names=emolabels))"
   ]
  },
  {
   "cell_type": "code",
   "execution_count": 50,
   "metadata": {},
   "outputs": [
    {
     "name": "stdout",
     "output_type": "stream",
     "text": [
      "happy\tsad\tdisgust\tangry\tfear\tsurprise\n",
      "2.0\t1.0\t4.0\t1.0\t1.0\t1.0\n",
      "6.0\t1.0\t2.0\t1.0\t0.0\t1.0\n",
      "0.0\t10.0\t5.0\t0.0\t2.0\t0.0\n",
      "0.0\t1.0\t4.0\t30.0\t1.0\t1.0\n",
      "1.0\t1.0\t3.0\t3.0\t2.0\t1.0\n",
      "1.0\t1.0\t2.0\t1.0\t3.0\t6.0\n",
      "5.0\t0.0\t0.0\t2.0\t1.0\t15.0\n"
     ]
    }
   ],
   "source": [
    "examples = [\n",
    "    \"まじきもい、あいつ\",\n",
    "    \"今日は楽しい一日だったよ\",\n",
    "    \"ペットが死んだ、実に悲しい\",\n",
    "    \"ふざけるな、死ね\",\n",
    "    \"ストーカー怖い\",\n",
    "    \"すごい！ほんとに！？\",\n",
    "    \"葉は植物の構成要素です。\"\n",
    "]\n",
    "\n",
    "targets = preprocess(examples, tokenizer, maxlen=maxlen)\n",
    "print('\\t'.join(emolabels))\n",
    "for i, ds in enumerate(model.predict(targets)):\n",
    "    print('\\t'.join([str(round(100.0*d)) for d in ds]))"
   ]
  },
  {
   "cell_type": "code",
   "execution_count": 51,
   "metadata": {},
   "outputs": [
    {
     "data": {
      "text/plain": [
       "0.4827222222222222"
      ]
     },
     "execution_count": 51,
     "metadata": {},
     "output_type": "execute_result"
    }
   ],
   "source": [
    "from sklearn.metrics import accuracy_score\n",
    "accuracy_score(y_true, y_preds)"
   ]
  },
  {
   "cell_type": "code",
   "execution_count": null,
   "metadata": {},
   "outputs": [],
   "source": []
  }
 ],
 "metadata": {
  "kernelspec": {
   "display_name": "Python 3",
   "language": "python",
   "name": "python3"
  },
  "language_info": {
   "codemirror_mode": {
    "name": "ipython",
    "version": 3
   },
   "file_extension": ".py",
   "mimetype": "text/x-python",
   "name": "python",
   "nbconvert_exporter": "python",
   "pygments_lexer": "ipython3",
   "version": "3.6.5"
  }
 },
 "nbformat": 4,
 "nbformat_minor": 2
}
