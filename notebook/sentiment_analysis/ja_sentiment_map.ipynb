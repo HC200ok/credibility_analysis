{
 "cells": [
  {
   "cell_type": "code",
   "execution_count": 126,
   "metadata": {},
   "outputs": [],
   "source": [
    "import json\n",
    "data = None\n",
    "for i in range(1453):\n",
    "    with open(\"tweets/data_{}.json\".format(i)) as f:\n",
    "        if data is None:\n",
    "            data = json.load(f)\n",
    "        else:\n",
    "            data['statuses'] += json.load(f)['statuses']"
   ]
  },
  {
   "cell_type": "code",
   "execution_count": 127,
   "metadata": {},
   "outputs": [],
   "source": [
    "import pickle\n",
    "with open(\"pref_dict.pkl\", \"rb\") as f:\n",
    "    pref_dict = pickle.load(f)\n",
    "    \n",
    "with open(\"city_dict.pkl\", \"rb\") as f:\n",
    "    city_dict = pickle.load(f)"
   ]
  },
  {
   "cell_type": "code",
   "execution_count": 143,
   "metadata": {},
   "outputs": [],
   "source": [
    "import re\n",
    "import pandas as pd\n",
    "import math\n",
    "regex = r\"[都道府県\\,市町村群 ]\"\n",
    "\n",
    "def geocode(location, regex, city_dict, pref_dict):\n",
    "    ds = re.split(regex, location)\n",
    "    for d in ds:\n",
    "        d = d.lower().strip()\n",
    "        if d in city_dict:\n",
    "            t = city_dict[d]\n",
    "            if math.isnan(float(t[0])) or math.isnan(float(t[1])):\n",
    "                continue\n",
    "            else:\n",
    "                return t\n",
    "    \n",
    "    for d in ds:\n",
    "        d = d.lower().strip()\n",
    "        if d in pref_dict:\n",
    "            t = pref_dict[d]\n",
    "            if math.isnan(float(t[0])) or math.isnan(float(t[1])):\n",
    "                continue\n",
    "            else:\n",
    "                return t\n",
    "    return False\n",
    "\n",
    "def format_data(statuses):\n",
    "    results = []\n",
    "    for status in statuses:\n",
    "        try:\n",
    "            coordinates = geocode(status['user']['location'], regex, city_dict, pref_dict)\n",
    "            if coordinates:\n",
    "                results.append({\n",
    "                    'user':status['user']['screen_name'], \n",
    "                    'text':status['full_text'], \n",
    "                    'coordinates': coordinates,\n",
    "                    'date': status['created_at']\n",
    "                })\n",
    "            else:\n",
    "                continue\n",
    "        except Exception as e:\n",
    "            print(e)\n",
    "            break\n",
    "    return pd.DataFrame(results)\n",
    "\n",
    "df = format_data(data['statuses'])"
   ]
  },
  {
   "cell_type": "code",
   "execution_count": 144,
   "metadata": {},
   "outputs": [
    {
     "data": {
      "text/plain": [
       "(275882, 4)"
      ]
     },
     "execution_count": 144,
     "metadata": {},
     "output_type": "execute_result"
    }
   ],
   "source": [
    "df.shape"
   ]
  },
  {
   "cell_type": "code",
   "execution_count": 145,
   "metadata": {},
   "outputs": [],
   "source": [
    "import pandas as pd\n",
    "import numpy as np\n",
    "from keras.models import load_model\n",
    "from keras.preprocessing.sequence import pad_sequences\n",
    "import pickle\n",
    "\n",
    "emotions = [\"happy\", \"sad\", \"disgust\", \"angry\", \"fear\", \"surprise\"]\n",
    "colors = [\"orange\", \"blue\", \"green\", \"red\", \"gray\", \"purple\"]\n",
    "\n",
    "model = load_model(\"models/ja_tweets_sentiment/model_2018-08-28-15:00.h5\")\n",
    "\n",
    "with open(\"models/ja_tweets_sentiment/tokenizer_cnn_ja.pkl\", \"rb\") as f:\n",
    "    tokenizer = pickle.load(f)"
   ]
  },
  {
   "cell_type": "code",
   "execution_count": 146,
   "metadata": {},
   "outputs": [],
   "source": [
    "def preprocess(data, tokenizer, maxlen=280):\n",
    "    return(pad_sequences(tokenizer.texts_to_sequences(data), maxlen=maxlen))\n",
    "\n",
    "preds = model.predict(preprocess(df['text'].tolist(), tokenizer))\n",
    "strength = list(map(max, preds))\n",
    "df['strength'] = strength\n",
    "preds = np.argmax(preds, axis=1)\n",
    "df['emotion'] = preds"
   ]
  },
  {
   "cell_type": "code",
   "execution_count": 147,
   "metadata": {},
   "outputs": [],
   "source": [
    "df = df.dropna()\n",
    "df.date = pd.to_datetime(df.date)\n",
    "df[\"date_day\"] = list(map(lambda x: str(x).split()[0], df.date))\n",
    "df[\"date_hour\"] = list(map(lambda x: str(x).split(\":\")[0], df.date))\n",
    "df = df.sort_values(by=\"date\", ascending=True)"
   ]
  },
  {
   "cell_type": "code",
   "execution_count": 148,
   "metadata": {},
   "outputs": [
    {
     "data": {
      "text/plain": [
       "(275882, 8)"
      ]
     },
     "execution_count": 148,
     "metadata": {},
     "output_type": "execute_result"
    }
   ],
   "source": []
  },
  {
   "cell_type": "code",
   "execution_count": 149,
   "metadata": {},
   "outputs": [],
   "source": [
    "df.to_csv(\"data.csv\", index=False)"
   ]
  },
  {
   "cell_type": "code",
   "execution_count": 150,
   "metadata": {},
   "outputs": [],
   "source": [
    "#sample_size=12000\n",
    "#df = pd.read_csv(\"data.csv\")\n",
    "#df = df.dropna()\n",
    "#df = df.sample(sample_size)\n",
    "#df.date = pd.to_datetime(df.date)\n",
    "#df[\"date_day\"] = list(map(lambda x: str(x).split()[0], df.date))\n",
    "#df = df.sort_values(by=\"date\", ascending=True)"
   ]
  },
  {
   "cell_type": "code",
   "execution_count": 154,
   "metadata": {},
   "outputs": [
    {
     "data": {
      "text/plain": [
       "array([(35.60456, 140.12311), (36.56458, 139.88339),\n",
       "       (35.706590000000006, 139.86792), ..., (38.79557, 141.51051),\n",
       "       (32.55638, 130.68242), (31.90355, 130.70251000000002)], dtype=object)"
      ]
     },
     "execution_count": 154,
     "metadata": {},
     "output_type": "execute_result"
    }
   ],
   "source": [
    "df[\"coordinates\"].unique()"
   ]
  },
  {
   "cell_type": "code",
   "execution_count": 163,
   "metadata": {},
   "outputs": [],
   "source": [
    "df['coordinates_fixed'] = [(round(d[0]), round(d[1])) for d in df['coordinates']]"
   ]
  },
  {
   "cell_type": "code",
   "execution_count": 165,
   "metadata": {},
   "outputs": [
    {
     "data": {
      "text/plain": [
       "array([(36, 140), (37, 140), (43, 141), (35, 136), (35, 140), (37, 139),\n",
       "       (36, 139), (38, 139), (36, 134), (28, 129), (38, 141), (36, 137),\n",
       "       (35, 135), (35, 137), (33, 130), (34, 131), (36, 138), (44, 142),\n",
       "       (37, 138), (40, 141), (36, 141), (35, 134), (34, 132), (43, 143),\n",
       "       (34, 130), (34, 135), (35, 139), (33, 134), (35, 133), (32, 131),\n",
       "       (35, 138), (33, 132), (26, 128), (31, 131), (39, 141), (36, 136),\n",
       "       (38, 140), (33, 129), (37, 137), (34, 133), (34, 134), (33, 131),\n",
       "       (35, 132), (39, 142), (41, 141), (40, 140), (34, 136), (43, 142),\n",
       "       (41, 140), (32, 130), (37, 141), (42, 140), (27, 128), (34, 129),\n",
       "       (42, 141), (33, 133), (39, 140), (36, 135), (27, 142), (25, 125),\n",
       "       (34, 137), (36, 133), (31, 130), (43, 140), (45, 142), (27, 129),\n",
       "       (32, 132), (43, 144), (44, 144), (24, 124), (42, 143), (44, 145),\n",
       "       (44, 143), (38, 138), (34, 140), (43, 146), (34, 139), (42, 142),\n",
       "       (24, 123), (26, 127), (30, 131), (40, 142), (32, 140), (43, 145),\n",
       "       (45, 141), (35, 131), (33, 136), (28, 130)], dtype=object)"
      ]
     },
     "execution_count": 165,
     "metadata": {},
     "output_type": "execute_result"
    }
   ],
   "source": [
    "df['coordinates_fixed'].unique()"
   ]
  },
  {
   "cell_type": "code",
   "execution_count": 294,
   "metadata": {},
   "outputs": [],
   "source": [
    "import numpy as np\n",
    "import pandas as pd\n",
    "import math\n",
    "from math import sqrt\n",
    "from random import random\n",
    "from ast import literal_eval as make_tuple\n",
    "\n",
    "df_fixed = {}\n",
    "size_param=(sqrt(3), 100000)\n",
    "in_colors = []\n",
    "in_radiuses = []\n",
    "in_coords = []\n",
    "in_dates = []\n",
    "\n",
    "max_emo = {}\n",
    "for name, group in df.groupby([\"date_hour\"]):\n",
    "    emo = 0.0\n",
    "    for d in group['strength']:\n",
    "        emo += d\n",
    "    max_emo[name] = emo\n",
    "\n",
    "for name, group in df.groupby([\"date_hour\", \"coordinates_fixed\", \"emotion\"]):\n",
    "    radius = 0.0\n",
    "    for d in group['strength']:\n",
    "        radius += d\n",
    "    radius = (size_param[1]*radius) / max_emo[name[0]]**(1/size_param[0])\n",
    "    if radius < size_param[0]:\n",
    "        continue\n",
    "    in_colors.append(colors[name[2]])\n",
    "    in_radiuses.append(radius)\n",
    "    in_coords.append(name[1])\n",
    "    in_dates.append(name[0])"
   ]
  },
  {
   "cell_type": "code",
   "execution_count": 282,
   "metadata": {},
   "outputs": [
    {
     "data": {
      "text/plain": [
       "[9348, 9348, 9348, 9348]"
      ]
     },
     "execution_count": 282,
     "metadata": {},
     "output_type": "execute_result"
    }
   ],
   "source": [
    "list(map(len, [in_colors,in_radiuses,in_coords,in_dates]))"
   ]
  },
  {
   "cell_type": "code",
   "execution_count": 266,
   "metadata": {},
   "outputs": [
    {
     "data": {
      "text/plain": [
       "{'2018-08-27': 26889.238191342974,\n",
       " '2018-08-28': 13783.658433027224,\n",
       " '2018-08-29': 4473.967996143445,\n",
       " '2018-08-30': 1674.6215828826594,\n",
       " '2018-08-31': 37.43535278644413}"
      ]
     },
     "execution_count": 266,
     "metadata": {},
     "output_type": "execute_result"
    }
   ],
   "source": [
    "max_emo"
   ]
  },
  {
   "cell_type": "code",
   "execution_count": 295,
   "metadata": {},
   "outputs": [
    {
     "name": "stdout",
     "output_type": "stream",
     "text": [
      "The autoreload extension is already loaded. To reload it, use:\n",
      "  %reload_ext autoreload\n"
     ]
    },
    {
     "data": {
      "text/plain": [
       "True"
      ]
     },
     "execution_count": 295,
     "metadata": {},
     "output_type": "execute_result"
    }
   ],
   "source": [
    "%load_ext autoreload\n",
    "%autoreload 2\n",
    "import mapgen\n",
    "center = (38, 137)\n",
    "mapgen.plot(\"test_map_ver3.html\", center, in_coords, in_radiuses, in_colors, in_dates)"
   ]
  },
  {
   "cell_type": "code",
   "execution_count": null,
   "metadata": {},
   "outputs": [],
   "source": []
  }
 ],
 "metadata": {
  "kernelspec": {
   "display_name": "Python 3",
   "language": "python",
   "name": "python3"
  },
  "language_info": {
   "codemirror_mode": {
    "name": "ipython",
    "version": 3
   },
   "file_extension": ".py",
   "mimetype": "text/x-python",
   "name": "python",
   "nbconvert_exporter": "python",
   "pygments_lexer": "ipython3",
   "version": "3.6.5"
  }
 },
 "nbformat": 4,
 "nbformat_minor": 2
}
