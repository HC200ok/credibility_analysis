{
 "cells": [
  {
   "cell_type": "code",
   "execution_count": 1,
   "metadata": {},
   "outputs": [],
   "source": [
    "import pandas as pd\n",
    "df = pd.read_csv(\"../data/sentiment140.csv\", header=None, error_bad_lines=False, encoding='latin1')\n",
    "\n",
    "df = df[[0, 5]]\n",
    "df.columns = [\"label\", \"text\"]\n",
    "df['label'] = df.label.factorize()[0]"
   ]
  },
  {
   "cell_type": "code",
   "execution_count": 3,
   "metadata": {},
   "outputs": [],
   "source": [
    "from sklearn.utils import shuffle\n",
    "df = shuffle(df, random_state=42)\n",
    "df_sample = df.iloc[:]\n",
    "df_sample['text'] = df_sample['text'].apply(lambda x: x.lower())"
   ]
  },
  {
   "cell_type": "code",
   "execution_count": 4,
   "metadata": {},
   "outputs": [],
   "source": [
    "import numpy as np\n",
    "def encoding(texts, max_len=None):\n",
    "    tx2chs = [list(text) for text in texts]\n",
    "    if max_len is None:\n",
    "        max_len = max([len(chs) for chs in tx2chs])\n",
    "    vectors = [list(map(ord, chs))+[0 for _ in range(max_len-len(chs))] for chs in tx2chs]\n",
    "    max_features = max([max(x) for x in vectors])\n",
    "    return np.array(vectors), max_len, max_features\n",
    "\n",
    "X, max_len, max_features = encoding(df_sample['text'])"
   ]
  },
  {
   "cell_type": "code",
   "execution_count": 12,
   "metadata": {},
   "outputs": [
    {
     "data": {
      "text/plain": [
       "(374, 251)"
      ]
     },
     "execution_count": 12,
     "metadata": {},
     "output_type": "execute_result"
    }
   ],
   "source": [
    "max_len, max_features"
   ]
  },
  {
   "cell_type": "code",
   "execution_count": 5,
   "metadata": {},
   "outputs": [
    {
     "name": "stderr",
     "output_type": "stream",
     "text": [
      "/opt/conda/lib/python3.6/site-packages/h5py/__init__.py:36: FutureWarning: Conversion of the second argument of issubdtype from `float` to `np.floating` is deprecated. In future, it will be treated as `np.float64 == np.dtype(float).type`.\n",
      "  from ._conv import register_converters as _register_converters\n",
      "Using TensorFlow backend.\n"
     ]
    }
   ],
   "source": [
    "from keras.utils import to_categorical\n",
    "y = to_categorical(df_sample['label'])"
   ]
  },
  {
   "cell_type": "code",
   "execution_count": 6,
   "metadata": {},
   "outputs": [],
   "source": [
    "from keras.layers import Input, Dense, Embedding, Flatten\n",
    "from keras.layers import SpatialDropout1D\n",
    "from keras.layers.convolutional import Conv1D, MaxPooling1D\n",
    "from keras.models import Sequential"
   ]
  },
  {
   "cell_type": "code",
   "execution_count": 7,
   "metadata": {},
   "outputs": [],
   "source": [
    "from sklearn.model_selection import train_test_split\n",
    "X_train, X_test, y_train, y_test = train_test_split(X, y)\n",
    "X_train, X_val, y_train, y_val = train_test_split(X_train, y_train)"
   ]
  },
  {
   "cell_type": "code",
   "execution_count": 8,
   "metadata": {},
   "outputs": [],
   "source": [
    "model = Sequential()\n",
    "model.add(Embedding(max_features+1, 150, input_length=max_len))\n",
    "model.add(SpatialDropout1D(0.2))\n",
    "model.add(Conv1D(32, kernel_size=3, padding='same', activation='relu'))\n",
    "model.add(MaxPooling1D(pool_size=2))\n",
    "model.add(Conv1D(64, kernel_size=3, padding='same', activation='relu'))\n",
    "model.add(MaxPooling1D(pool_size=2))\n",
    "model.add(Flatten())\n",
    "model.add(Dense(2, activation='softmax'))\n",
    "model.compile(loss='binary_crossentropy', optimizer='rmsprop', metrics=['accuracy'])"
   ]
  },
  {
   "cell_type": "code",
   "execution_count": 9,
   "metadata": {},
   "outputs": [
    {
     "name": "stdout",
     "output_type": "stream",
     "text": [
      "Train on 900000 samples, validate on 300000 samples\n",
      "Epoch 1/30\n",
      "900000/900000 [==============================] - 48s 53us/step - loss: 0.6249 - acc: 0.6506 - val_loss: 0.5983 - val_acc: 0.6864\n",
      "Epoch 2/30\n",
      "900000/900000 [==============================] - 45s 50us/step - loss: 0.5744 - acc: 0.7046 - val_loss: 0.5418 - val_acc: 0.7357\n",
      "Epoch 3/30\n",
      "900000/900000 [==============================] - 45s 50us/step - loss: 0.5458 - acc: 0.7285 - val_loss: 0.5419 - val_acc: 0.7391\n",
      "Epoch 4/30\n",
      "900000/900000 [==============================] - 45s 50us/step - loss: 0.5286 - acc: 0.7414 - val_loss: 0.5133 - val_acc: 0.7499\n",
      "Epoch 5/30\n",
      "900000/900000 [==============================] - 45s 50us/step - loss: 0.5163 - acc: 0.7496 - val_loss: 0.5247 - val_acc: 0.7400\n",
      "Epoch 6/30\n",
      "900000/900000 [==============================] - 45s 50us/step - loss: 0.5070 - acc: 0.7568 - val_loss: 0.5027 - val_acc: 0.7554\n",
      "Epoch 7/30\n",
      "900000/900000 [==============================] - 45s 51us/step - loss: 0.5000 - acc: 0.7614 - val_loss: 0.4865 - val_acc: 0.7726\n",
      "Epoch 8/30\n",
      "900000/900000 [==============================] - 45s 51us/step - loss: 0.4939 - acc: 0.7656 - val_loss: 0.4880 - val_acc: 0.7742\n",
      "Epoch 9/30\n",
      "900000/900000 [==============================] - 45s 51us/step - loss: 0.4898 - acc: 0.7684 - val_loss: 0.4873 - val_acc: 0.7751\n",
      "Epoch 10/30\n",
      "900000/900000 [==============================] - 45s 50us/step - loss: 0.4849 - acc: 0.7714 - val_loss: 0.4727 - val_acc: 0.7811\n",
      "Epoch 11/30\n",
      "900000/900000 [==============================] - 45s 50us/step - loss: 0.4819 - acc: 0.7735 - val_loss: 0.4728 - val_acc: 0.7819\n",
      "Epoch 12/30\n",
      "900000/900000 [==============================] - 45s 50us/step - loss: 0.4779 - acc: 0.7761 - val_loss: 0.4684 - val_acc: 0.7842\n",
      "Epoch 13/30\n",
      "900000/900000 [==============================] - 46s 51us/step - loss: 0.4752 - acc: 0.7782 - val_loss: 0.4728 - val_acc: 0.7843\n",
      "Epoch 14/30\n",
      "900000/900000 [==============================] - 45s 50us/step - loss: 0.4732 - acc: 0.7795 - val_loss: 0.4635 - val_acc: 0.7869\n",
      "Epoch 15/30\n",
      "900000/900000 [==============================] - 46s 51us/step - loss: 0.4705 - acc: 0.7812 - val_loss: 0.4821 - val_acc: 0.7808\n",
      "Epoch 16/30\n",
      "900000/900000 [==============================] - 45s 51us/step - loss: 0.4688 - acc: 0.7822 - val_loss: 0.4677 - val_acc: 0.7874\n",
      "Epoch 17/30\n",
      "900000/900000 [==============================] - 45s 51us/step - loss: 0.4664 - acc: 0.7839 - val_loss: 0.4594 - val_acc: 0.7909\n",
      "Epoch 18/30\n",
      "900000/900000 [==============================] - 45s 50us/step - loss: 0.4651 - acc: 0.7845 - val_loss: 0.4585 - val_acc: 0.7897\n",
      "Epoch 19/30\n",
      "900000/900000 [==============================] - 45s 50us/step - loss: 0.4637 - acc: 0.7859 - val_loss: 0.4824 - val_acc: 0.7825\n",
      "Epoch 20/30\n",
      "900000/900000 [==============================] - 46s 51us/step - loss: 0.4620 - acc: 0.7869 - val_loss: 0.4571 - val_acc: 0.7890\n",
      "Epoch 21/30\n",
      "900000/900000 [==============================] - 45s 50us/step - loss: 0.4613 - acc: 0.7873 - val_loss: 0.4662 - val_acc: 0.7904\n",
      "Epoch 22/30\n",
      "900000/900000 [==============================] - 45s 50us/step - loss: 0.4598 - acc: 0.7881 - val_loss: 0.4558 - val_acc: 0.7928\n",
      "Epoch 23/30\n",
      "900000/900000 [==============================] - 45s 50us/step - loss: 0.4587 - acc: 0.7892 - val_loss: 0.4618 - val_acc: 0.7859\n",
      "Epoch 24/30\n",
      "900000/900000 [==============================] - 45s 50us/step - loss: 0.4573 - acc: 0.7894 - val_loss: 0.4546 - val_acc: 0.7943\n",
      "Epoch 25/30\n",
      "900000/900000 [==============================] - 46s 51us/step - loss: 0.4568 - acc: 0.7905 - val_loss: 0.4528 - val_acc: 0.7937\n",
      "Epoch 26/30\n",
      "900000/900000 [==============================] - 46s 51us/step - loss: 0.4560 - acc: 0.7906 - val_loss: 0.4612 - val_acc: 0.7924\n",
      "Epoch 27/30\n",
      "900000/900000 [==============================] - 45s 51us/step - loss: 0.4551 - acc: 0.7909 - val_loss: 0.4515 - val_acc: 0.7950\n",
      "Epoch 28/30\n",
      "900000/900000 [==============================] - 45s 50us/step - loss: 0.4542 - acc: 0.7919 - val_loss: 0.4537 - val_acc: 0.7948\n",
      "Epoch 29/30\n",
      "900000/900000 [==============================] - 45s 50us/step - loss: 0.4534 - acc: 0.7923 - val_loss: 0.4508 - val_acc: 0.7958\n",
      "Epoch 30/30\n",
      "900000/900000 [==============================] - 45s 50us/step - loss: 0.4529 - acc: 0.7926 - val_loss: 0.4501 - val_acc: 0.7947\n"
     ]
    },
    {
     "data": {
      "text/plain": [
       "<keras.callbacks.History at 0x7f3c3e1944e0>"
      ]
     },
     "execution_count": 9,
     "metadata": {},
     "output_type": "execute_result"
    }
   ],
   "source": [
    "epochs = 30\n",
    "batch_size = 2000\n",
    "model.fit(X_train, y_train, validation_data=(X_val, y_val), epochs=epochs, batch_size=batch_size)"
   ]
  },
  {
   "cell_type": "code",
   "execution_count": 14,
   "metadata": {},
   "outputs": [],
   "source": [
    "y_preds = model.predict(X_test)\n",
    "y_preds = np.argmax(y_preds, axis=1)\n",
    "y_true = np.argmax(y_test, axis=1)"
   ]
  },
  {
   "cell_type": "code",
   "execution_count": 15,
   "metadata": {},
   "outputs": [
    {
     "data": {
      "text/plain": [
       "(0.7569090255293192, 0.7568025)"
      ]
     },
     "execution_count": 15,
     "metadata": {},
     "output_type": "execute_result"
    }
   ],
   "source": [
    "from sklearn.metrics import roc_auc_score, accuracy_score\n",
    "roc_auc_score(y_true, y_preds), accuracy_score(y_true, y_preds)"
   ]
  },
  {
   "cell_type": "code",
   "execution_count": 16,
   "metadata": {},
   "outputs": [],
   "source": [
    "model.save(\"model_2018-08-27-10:22.h5\")"
   ]
  },
  {
   "cell_type": "code",
   "execution_count": 17,
   "metadata": {},
   "outputs": [
    {
     "name": "stdout",
     "output_type": "stream",
     "text": [
      "Train on 900000 samples, validate on 300000 samples\n",
      "Epoch 1/3\n",
      "900000/900000 [==============================] - 42s 47us/step - loss: 0.5056 - acc: 0.7582 - val_loss: 0.4882 - val_acc: 0.7681\n",
      "Epoch 2/3\n",
      "900000/900000 [==============================] - 42s 47us/step - loss: 0.4958 - acc: 0.7650 - val_loss: 0.4926 - val_acc: 0.7724\n",
      "Epoch 3/3\n",
      "900000/900000 [==============================] - 42s 47us/step - loss: 0.4882 - acc: 0.7704 - val_loss: 0.4750 - val_acc: 0.7796\n"
     ]
    },
    {
     "data": {
      "text/plain": [
       "<keras.callbacks.History at 0x7fa441230908>"
      ]
     },
     "execution_count": 17,
     "metadata": {},
     "output_type": "execute_result"
    }
   ],
   "source": [
    "model.fit(X_train, y_train, validation_data=(X_val, y_val), epochs=epochs, batch_size=batch_size)"
   ]
  },
  {
   "cell_type": "code",
   "execution_count": 18,
   "metadata": {},
   "outputs": [],
   "source": [
    "y_preds = model.predict(X_test)\n",
    "y_preds = np.argmax(y_preds, axis=1)"
   ]
  },
  {
   "cell_type": "code",
   "execution_count": 19,
   "metadata": {},
   "outputs": [
    {
     "data": {
      "text/plain": [
       "(0.7799538228919617, 0.7799725)"
      ]
     },
     "execution_count": 19,
     "metadata": {},
     "output_type": "execute_result"
    }
   ],
   "source": [
    "roc_auc_score(y_true, y_preds), accuracy_score(y_true, y_preds)"
   ]
  },
  {
   "cell_type": "code",
   "execution_count": 20,
   "metadata": {},
   "outputs": [],
   "source": [
    "model.save(\"model_2018-08-27-10:25.h5\")"
   ]
  },
  {
   "cell_type": "code",
   "execution_count": 7,
   "metadata": {},
   "outputs": [],
   "source": [
    "from keras.models import load_model\n",
    "model = load_model(\"model_2018-08-27-10:25.h5\")"
   ]
  },
  {
   "cell_type": "code",
   "execution_count": 10,
   "metadata": {},
   "outputs": [
    {
     "name": "stdout",
     "output_type": "stream",
     "text": [
      "Train on 900000 samples, validate on 300000 samples\n",
      "Epoch 1/10\n",
      "900000/900000 [==============================] - 46s 51us/step - loss: 0.4839 - acc: 0.7732 - val_loss: 0.4758 - val_acc: 0.7753\n",
      "Epoch 2/10\n",
      "900000/900000 [==============================] - 42s 46us/step - loss: 0.4799 - acc: 0.7756 - val_loss: 0.4652 - val_acc: 0.7847\n",
      "Epoch 3/10\n",
      "900000/900000 [==============================] - 42s 46us/step - loss: 0.4769 - acc: 0.7775 - val_loss: 0.4901 - val_acc: 0.7751\n",
      "Epoch 4/10\n",
      "900000/900000 [==============================] - 42s 46us/step - loss: 0.4742 - acc: 0.7789 - val_loss: 0.4671 - val_acc: 0.7859\n",
      "Epoch 5/10\n",
      "900000/900000 [==============================] - 42s 46us/step - loss: 0.4718 - acc: 0.7810 - val_loss: 0.4618 - val_acc: 0.7881\n",
      "Epoch 6/10\n",
      "900000/900000 [==============================] - 42s 46us/step - loss: 0.4698 - acc: 0.7820 - val_loss: 0.4626 - val_acc: 0.7893\n",
      "Epoch 7/10\n",
      "900000/900000 [==============================] - 42s 46us/step - loss: 0.4678 - acc: 0.7833 - val_loss: 0.4597 - val_acc: 0.7893\n",
      "Epoch 8/10\n",
      "900000/900000 [==============================] - 42s 46us/step - loss: 0.4657 - acc: 0.7842 - val_loss: 0.4870 - val_acc: 0.7809\n",
      "Epoch 9/10\n",
      "900000/900000 [==============================] - 42s 46us/step - loss: 0.4644 - acc: 0.7855 - val_loss: 0.4626 - val_acc: 0.7908\n",
      "Epoch 10/10\n",
      "900000/900000 [==============================] - 42s 46us/step - loss: 0.4628 - acc: 0.7872 - val_loss: 0.4672 - val_acc: 0.7896\n"
     ]
    },
    {
     "data": {
      "text/plain": [
       "<keras.callbacks.History at 0x7f37919cf320>"
      ]
     },
     "execution_count": 10,
     "metadata": {},
     "output_type": "execute_result"
    }
   ],
   "source": [
    "epochs = 10\n",
    "batch_size = 2000\n",
    "model.fit(X_train, y_train, validation_data=(X_val, y_val), epochs=epochs, batch_size=batch_size)"
   ]
  },
  {
   "cell_type": "code",
   "execution_count": 12,
   "metadata": {},
   "outputs": [],
   "source": [
    "y_preds = model.predict(X_test)\n",
    "y_preds = np.argmax(y_preds, axis=1)"
   ]
  },
  {
   "cell_type": "code",
   "execution_count": 13,
   "metadata": {},
   "outputs": [
    {
     "data": {
      "text/plain": [
       "(0.7893832450051664, 0.7893125)"
      ]
     },
     "execution_count": 13,
     "metadata": {},
     "output_type": "execute_result"
    }
   ],
   "source": [
    "from sklearn.metrics import roc_auc_score, accuracy_score\n",
    "y_true = np.argmax(y_test, axis=1)\n",
    "roc_auc_score(y_true, y_preds), accuracy_score(y_true, y_preds)"
   ]
  },
  {
   "cell_type": "code",
   "execution_count": 14,
   "metadata": {},
   "outputs": [],
   "source": [
    "model.save(\"model_2018-08-27-10:46.h5\")"
   ]
  },
  {
   "cell_type": "code",
   "execution_count": 15,
   "metadata": {},
   "outputs": [
    {
     "name": "stdout",
     "output_type": "stream",
     "text": [
      "Train on 900000 samples, validate on 300000 samples\n",
      "Epoch 1/10\n",
      "900000/900000 [==============================] - 44s 49us/step - loss: 0.4614 - acc: 0.7878 - val_loss: 0.4607 - val_acc: 0.7915\n",
      "Epoch 2/10\n",
      "900000/900000 [==============================] - 45s 50us/step - loss: 0.4605 - acc: 0.7883 - val_loss: 0.4632 - val_acc: 0.7913\n",
      "Epoch 3/10\n",
      "900000/900000 [==============================] - 45s 50us/step - loss: 0.4593 - acc: 0.7887 - val_loss: 0.4548 - val_acc: 0.7900\n",
      "Epoch 4/10\n",
      "900000/900000 [==============================] - 45s 50us/step - loss: 0.4584 - acc: 0.7893 - val_loss: 0.4527 - val_acc: 0.7918\n",
      "Epoch 5/10\n",
      "900000/900000 [==============================] - 45s 50us/step - loss: 0.4570 - acc: 0.7901 - val_loss: 0.4530 - val_acc: 0.7948\n",
      "Epoch 6/10\n",
      "900000/900000 [==============================] - 45s 50us/step - loss: 0.4563 - acc: 0.7909 - val_loss: 0.4549 - val_acc: 0.7945\n",
      "Epoch 7/10\n",
      "900000/900000 [==============================] - 45s 50us/step - loss: 0.4551 - acc: 0.7912 - val_loss: 0.4552 - val_acc: 0.7900\n",
      "Epoch 8/10\n",
      "900000/900000 [==============================] - 45s 50us/step - loss: 0.4546 - acc: 0.7913 - val_loss: 0.4609 - val_acc: 0.7924\n",
      "Epoch 9/10\n",
      "900000/900000 [==============================] - 45s 50us/step - loss: 0.4535 - acc: 0.7924 - val_loss: 0.4493 - val_acc: 0.7958\n",
      "Epoch 10/10\n",
      "900000/900000 [==============================] - 45s 50us/step - loss: 0.4531 - acc: 0.7926 - val_loss: 0.4494 - val_acc: 0.7969\n"
     ]
    },
    {
     "data": {
      "text/plain": [
       "<keras.callbacks.History at 0x7f37901f2cf8>"
      ]
     },
     "execution_count": 15,
     "metadata": {},
     "output_type": "execute_result"
    }
   ],
   "source": [
    "epochs = 10\n",
    "batch_size = 2000\n",
    "model.fit(X_train, y_train, validation_data=(X_val, y_val), epochs=epochs, batch_size=batch_size)"
   ]
  },
  {
   "cell_type": "code",
   "execution_count": 16,
   "metadata": {},
   "outputs": [],
   "source": [
    "y_preds = model.predict(X_test)\n",
    "y_preds = np.argmax(y_preds, axis=1)"
   ]
  },
  {
   "cell_type": "code",
   "execution_count": 17,
   "metadata": {},
   "outputs": [
    {
     "data": {
      "text/plain": [
       "(0.796649954004895, 0.7966525)"
      ]
     },
     "execution_count": 17,
     "metadata": {},
     "output_type": "execute_result"
    }
   ],
   "source": [
    "roc_auc_score(y_true, y_preds), accuracy_score(y_true, y_preds)"
   ]
  },
  {
   "cell_type": "code",
   "execution_count": 18,
   "metadata": {},
   "outputs": [],
   "source": [
    "model.save(\"model_2018-08-27-10:55.h5\")"
   ]
  },
  {
   "cell_type": "code",
   "execution_count": 19,
   "metadata": {},
   "outputs": [
    {
     "name": "stdout",
     "output_type": "stream",
     "text": [
      "Train on 900000 samples, validate on 300000 samples\n",
      "Epoch 1/10\n",
      "900000/900000 [==============================] - 44s 49us/step - loss: 0.4522 - acc: 0.7936 - val_loss: 0.4514 - val_acc: 0.7963\n",
      "Epoch 2/10\n",
      "900000/900000 [==============================] - 45s 50us/step - loss: 0.4513 - acc: 0.7938 - val_loss: 0.4614 - val_acc: 0.7860\n",
      "Epoch 3/10\n",
      "900000/900000 [==============================] - 45s 50us/step - loss: 0.4511 - acc: 0.7939 - val_loss: 0.4506 - val_acc: 0.7932\n",
      "Epoch 4/10\n",
      "900000/900000 [==============================] - 45s 50us/step - loss: 0.4504 - acc: 0.7941 - val_loss: 0.4500 - val_acc: 0.7941\n",
      "Epoch 5/10\n",
      "900000/900000 [==============================] - 45s 50us/step - loss: 0.4499 - acc: 0.7948 - val_loss: 0.4550 - val_acc: 0.7956\n",
      "Epoch 6/10\n",
      "900000/900000 [==============================] - 45s 50us/step - loss: 0.4494 - acc: 0.7952 - val_loss: 0.4482 - val_acc: 0.7975\n",
      "Epoch 7/10\n",
      "900000/900000 [==============================] - 45s 50us/step - loss: 0.4488 - acc: 0.7951 - val_loss: 0.4484 - val_acc: 0.7952\n",
      "Epoch 8/10\n",
      "900000/900000 [==============================] - 45s 50us/step - loss: 0.4481 - acc: 0.7958 - val_loss: 0.4496 - val_acc: 0.7977\n",
      "Epoch 9/10\n",
      "900000/900000 [==============================] - 45s 50us/step - loss: 0.4482 - acc: 0.7958 - val_loss: 0.4478 - val_acc: 0.7982\n",
      "Epoch 10/10\n",
      "900000/900000 [==============================] - 45s 50us/step - loss: 0.4473 - acc: 0.7962 - val_loss: 0.4462 - val_acc: 0.7965\n"
     ]
    },
    {
     "data": {
      "text/plain": [
       "<keras.callbacks.History at 0x7f37901f2e48>"
      ]
     },
     "execution_count": 19,
     "metadata": {},
     "output_type": "execute_result"
    }
   ],
   "source": [
    "epochs = 10\n",
    "batch_size = 2000\n",
    "model.fit(X_train, y_train, validation_data=(X_val, y_val), epochs=epochs, batch_size=batch_size)"
   ]
  },
  {
   "cell_type": "code",
   "execution_count": 20,
   "metadata": {},
   "outputs": [
    {
     "data": {
      "text/plain": [
       "(0.7973590883686956, 0.7974025)"
      ]
     },
     "execution_count": 20,
     "metadata": {},
     "output_type": "execute_result"
    }
   ],
   "source": [
    "y_preds = model.predict(X_test)\n",
    "y_preds = np.argmax(y_preds, axis=1)\n",
    "roc_auc_score(y_true, y_preds), accuracy_score(y_true, y_preds)"
   ]
  },
  {
   "cell_type": "code",
   "execution_count": 21,
   "metadata": {},
   "outputs": [],
   "source": [
    "model.save(\"model_2018-08-27-11:15.h5\")"
   ]
  },
  {
   "cell_type": "code",
   "execution_count": 26,
   "metadata": {},
   "outputs": [
    {
     "data": {
      "text/plain": [
       "array([[0.7620187 , 0.23798132],\n",
       "       [0.07904999, 0.92095006],\n",
       "       [0.9092788 , 0.09072125],\n",
       "       [0.9782016 , 0.02179843]], dtype=float32)"
      ]
     },
     "execution_count": 26,
     "metadata": {},
     "output_type": "execute_result"
    }
   ],
   "source": [
    "examples = [\"Fuck you asshole.\", \"I am happy\", \"very scared...\", \"why do people hate Trump?\"]\n",
    "example_enc,_,_ = encoding(examples, max_len)\n",
    "model.predict(example_enc)"
   ]
  },
  {
   "cell_type": "code",
   "execution_count": 17,
   "metadata": {},
   "outputs": [],
   "source": []
  },
  {
   "cell_type": "code",
   "execution_count": 19,
   "metadata": {},
   "outputs": [
    {
     "data": {
      "text/plain": [
       "(340700, 10)"
      ]
     },
     "execution_count": 19,
     "metadata": {},
     "output_type": "execute_result"
    }
   ],
   "source": []
  },
  {
   "cell_type": "code",
   "execution_count": null,
   "metadata": {},
   "outputs": [],
   "source": []
  },
  {
   "cell_type": "code",
   "execution_count": null,
   "metadata": {},
   "outputs": [],
   "source": []
  }
 ],
 "metadata": {
  "kernelspec": {
   "display_name": "Python 3",
   "language": "python",
   "name": "python3"
  },
  "language_info": {
   "codemirror_mode": {
    "name": "ipython",
    "version": 3
   },
   "file_extension": ".py",
   "mimetype": "text/x-python",
   "name": "python",
   "nbconvert_exporter": "python",
   "pygments_lexer": "ipython3",
   "version": "3.6.5"
  }
 },
 "nbformat": 4,
 "nbformat_minor": 2
}
