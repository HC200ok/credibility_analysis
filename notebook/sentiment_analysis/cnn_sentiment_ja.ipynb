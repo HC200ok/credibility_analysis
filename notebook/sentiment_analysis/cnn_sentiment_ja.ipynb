{
 "cells": [
  {
   "cell_type": "code",
   "execution_count": 1,
   "metadata": {},
   "outputs": [
    {
     "data": {
      "text/plain": [
       "(360000, 11)"
      ]
     },
     "execution_count": 1,
     "metadata": {},
     "output_type": "execute_result"
    }
   ],
   "source": [
    "import pandas as pd\n",
    "from os.path import join\n",
    "from sklearn.utils import shuffle\n",
    "\n",
    "emotions = [\"happy\", \"sad\", [\"disgust\", \"disgust2\"], \"angry\", \"fear\", \"surprise\"]\n",
    "dir_path = \"gathering/ja_tweets_sentiment\"\n",
    "size = 60000\n",
    "df = []\n",
    "for i, es in enumerate(emotions):\n",
    "    if isinstance(es, list):\n",
    "        for e in es:\n",
    "            data = shuffle(pd.read_json(join(dir_path, \"{}.json\".format(e)))).iloc[:int(size/len(es))]\n",
    "            data['label'] = i\n",
    "            df.append(data)\n",
    "    else:\n",
    "        data = shuffle(pd.read_json(join(dir_path, \"{}.json\".format(es)))).iloc[:int(size)]\n",
    "        data['label'] = i\n",
    "        df.append(data)\n",
    "\n",
    "df = pd.concat(df)\n",
    "df.shape"
   ]
  },
  {
   "cell_type": "code",
   "execution_count": 2,
   "metadata": {},
   "outputs": [],
   "source": [
    "df = shuffle(df)"
   ]
  },
  {
   "cell_type": "code",
   "execution_count": 3,
   "metadata": {},
   "outputs": [],
   "source": [
    "X = df['text']\n",
    "y = df['label']"
   ]
  },
  {
   "cell_type": "code",
   "execution_count": 4,
   "metadata": {},
   "outputs": [
    {
     "name": "stderr",
     "output_type": "stream",
     "text": [
      "/opt/conda/lib/python3.6/site-packages/h5py/__init__.py:36: FutureWarning: Conversion of the second argument of issubdtype from `float` to `np.floating` is deprecated. In future, it will be treated as `np.float64 == np.dtype(float).type`.\n",
      "  from ._conv import register_converters as _register_converters\n",
      "Using TensorFlow backend.\n"
     ]
    }
   ],
   "source": [
    "from keras.preprocessing.text import Tokenizer\n",
    "from keras.preprocessing.sequence import pad_sequences\n",
    "from keras.utils import to_categorical\n",
    "from sklearn.model_selection import train_test_split\n",
    "\n",
    "max_features=10000\n",
    "maxlen = 280\n",
    "\n",
    "y = to_categorical(y)\n",
    "X_train, X_test, y_train, y_test = train_test_split(X, y)\n",
    "\n",
    "tokenizer = Tokenizer(num_words=max_features, filters=\"\", char_level=True)\n",
    "tokenizer.fit_on_texts(list(X_train))\n",
    "\n",
    "X_train = tokenizer.texts_to_sequences(X_train)\n",
    "X_train = pad_sequences(X_train, maxlen=maxlen)\n",
    "X_test = tokenizer.texts_to_sequences(X_test)\n",
    "X_test = pad_sequences(X_test, maxlen=maxlen)"
   ]
  },
  {
   "cell_type": "code",
   "execution_count": 5,
   "metadata": {},
   "outputs": [],
   "source": [
    "X_train, X_val, y_train, y_val = train_test_split(X_train, y_train)"
   ]
  },
  {
   "cell_type": "code",
   "execution_count": 6,
   "metadata": {},
   "outputs": [
    {
     "data": {
      "text/plain": [
       "((202500, 280), (67500, 280), (90000, 280))"
      ]
     },
     "execution_count": 6,
     "metadata": {},
     "output_type": "execute_result"
    }
   ],
   "source": [
    "X_train.shape, X_val.shape, X_test.shape"
   ]
  },
  {
   "cell_type": "code",
   "execution_count": 7,
   "metadata": {},
   "outputs": [],
   "source": [
    "import pickle\n",
    "\n",
    "with open(\"tokenizer_cnn_ja.pkl\", \"wb\") as f:\n",
    "    pickle.dump(tokenizer, f)"
   ]
  },
  {
   "cell_type": "code",
   "execution_count": 8,
   "metadata": {},
   "outputs": [],
   "source": [
    "from keras.layers import Input, Dense, Embedding, Flatten\n",
    "from keras.layers import SpatialDropout1D\n",
    "from keras.layers.convolutional import Conv1D, MaxPooling1D\n",
    "from keras.models import Sequential"
   ]
  },
  {
   "cell_type": "code",
   "execution_count": 9,
   "metadata": {},
   "outputs": [],
   "source": [
    "model = Sequential()\n",
    "model.add(Embedding(max_features, 150, input_length=maxlen))\n",
    "model.add(SpatialDropout1D(0.2))\n",
    "model.add(Conv1D(32, kernel_size=3, padding='same', activation='relu'))\n",
    "model.add(MaxPooling1D(pool_size=2))\n",
    "model.add(Conv1D(64, kernel_size=3, padding='same', activation='relu'))\n",
    "model.add(MaxPooling1D(pool_size=2))\n",
    "model.add(Flatten())\n",
    "model.add(Dense(6, activation='sigmoid'))\n",
    "model.compile(loss='categorical_crossentropy', optimizer='rmsprop', metrics=['accuracy'])"
   ]
  },
  {
   "cell_type": "code",
   "execution_count": 10,
   "metadata": {},
   "outputs": [],
   "source": [
    "epochs = 15\n",
    "batch_size = 1000"
   ]
  },
  {
   "cell_type": "code",
   "execution_count": 11,
   "metadata": {},
   "outputs": [
    {
     "name": "stdout",
     "output_type": "stream",
     "text": [
      "Train on 202500 samples, validate on 67500 samples\n",
      "Epoch 1/15\n",
      "202500/202500 [==============================] - 15s 75us/step - loss: 1.6038 - acc: 0.3209 - val_loss: 1.5504 - val_acc: 0.3619\n",
      "Epoch 2/15\n",
      "202500/202500 [==============================] - 8s 38us/step - loss: 1.4825 - acc: 0.4033 - val_loss: 1.4568 - val_acc: 0.4205\n",
      "Epoch 3/15\n",
      "202500/202500 [==============================] - 8s 38us/step - loss: 1.4100 - acc: 0.4498 - val_loss: 1.3896 - val_acc: 0.4602\n",
      "Epoch 4/15\n",
      "202500/202500 [==============================] - 8s 38us/step - loss: 1.3583 - acc: 0.4783 - val_loss: 1.3613 - val_acc: 0.4733\n",
      "Epoch 5/15\n",
      "202500/202500 [==============================] - 8s 38us/step - loss: 1.3260 - acc: 0.4936 - val_loss: 1.3385 - val_acc: 0.4853\n",
      "Epoch 6/15\n",
      "202500/202500 [==============================] - 8s 38us/step - loss: 1.3006 - acc: 0.5060 - val_loss: 1.3523 - val_acc: 0.4816\n",
      "Epoch 7/15\n",
      "202500/202500 [==============================] - 8s 38us/step - loss: 1.2798 - acc: 0.5162 - val_loss: 1.3315 - val_acc: 0.4915\n",
      "Epoch 8/15\n",
      "202500/202500 [==============================] - 8s 38us/step - loss: 1.2608 - acc: 0.5229 - val_loss: 1.3386 - val_acc: 0.4909\n",
      "Epoch 9/15\n",
      "202500/202500 [==============================] - 8s 38us/step - loss: 1.2436 - acc: 0.5301 - val_loss: 1.3424 - val_acc: 0.4897\n",
      "Epoch 10/15\n",
      "202500/202500 [==============================] - 8s 38us/step - loss: 1.2267 - acc: 0.5377 - val_loss: 1.3249 - val_acc: 0.4974\n",
      "Epoch 11/15\n",
      "202500/202500 [==============================] - 8s 39us/step - loss: 1.2128 - acc: 0.5432 - val_loss: 1.3113 - val_acc: 0.5031\n",
      "Epoch 12/15\n",
      "202500/202500 [==============================] - 8s 38us/step - loss: 1.1966 - acc: 0.5494 - val_loss: 1.3209 - val_acc: 0.5005\n",
      "Epoch 13/15\n",
      "202500/202500 [==============================] - 8s 38us/step - loss: 1.1841 - acc: 0.5556 - val_loss: 1.3288 - val_acc: 0.4979\n",
      "Epoch 14/15\n",
      "202500/202500 [==============================] - 8s 38us/step - loss: 1.1708 - acc: 0.5600 - val_loss: 1.3152 - val_acc: 0.5046\n",
      "Epoch 15/15\n",
      "202500/202500 [==============================] - 8s 38us/step - loss: 1.1600 - acc: 0.5640 - val_loss: 1.3332 - val_acc: 0.4997\n"
     ]
    },
    {
     "data": {
      "text/plain": [
       "<keras.callbacks.History at 0x7fce44473c88>"
      ]
     },
     "execution_count": 11,
     "metadata": {},
     "output_type": "execute_result"
    }
   ],
   "source": [
    "model.fit(X_train, y_train, validation_data=(X_val, y_val), epochs=epochs, batch_size=batch_size)"
   ]
  },
  {
   "cell_type": "code",
   "execution_count": 12,
   "metadata": {},
   "outputs": [],
   "source": [
    "import numpy as np\n",
    "y_preds = model.predict(X_test)\n",
    "y_preds = np.argmax(y_preds, axis=1)\n",
    "y_true = np.argmax(y_test, axis=1)"
   ]
  },
  {
   "cell_type": "code",
   "execution_count": 13,
   "metadata": {},
   "outputs": [],
   "source": [
    "emolabels = []\n",
    "for e in emotions:\n",
    "    if isinstance(e, list):\n",
    "        emolabels.append(e[0])\n",
    "    else:\n",
    "        emolabels.append(e)"
   ]
  },
  {
   "cell_type": "code",
   "execution_count": 14,
   "metadata": {},
   "outputs": [],
   "source": [
    "from sklearn.metrics import classification_report"
   ]
  },
  {
   "cell_type": "code",
   "execution_count": 15,
   "metadata": {},
   "outputs": [
    {
     "name": "stdout",
     "output_type": "stream",
     "text": [
      "             precision    recall  f1-score   support\n",
      "\n",
      "      happy       0.50      0.64      0.56     15040\n",
      "        sad       0.61      0.51      0.55     14918\n",
      "    disgust       0.39      0.52      0.45     15205\n",
      "      angry       0.56      0.42      0.48     15050\n",
      "       fear       0.49      0.52      0.50     14888\n",
      "   surprise       0.51      0.38      0.44     14899\n",
      "\n",
      "avg / total       0.51      0.50      0.50     90000\n",
      "\n"
     ]
    }
   ],
   "source": [
    "print(classification_report(y_true, y_preds, target_names=emolabels))"
   ]
  },
  {
   "cell_type": "code",
   "execution_count": 16,
   "metadata": {},
   "outputs": [],
   "source": [
    "model.save(\"models/ja_tweets_sentiment/model_2018-08-28-15:00.h5\")"
   ]
  },
  {
   "cell_type": "code",
   "execution_count": 18,
   "metadata": {},
   "outputs": [],
   "source": [
    "from keras.models import load_model\n",
    "import pickle\n",
    "model = load_model(\"models/ja_tweets_sentiment/model_2018-08-28-15:00.h5\")\n",
    "\n",
    "with open(\"models/ja_tweets_sentiment/tokenizer_cnn_ja.pkl\", \"rb\") as f:\n",
    "    tokenizer = pickle.load(f)"
   ]
  },
  {
   "cell_type": "code",
   "execution_count": 19,
   "metadata": {},
   "outputs": [],
   "source": [
    "def preprocess(data, tokenizer, maxlen=280):\n",
    "    return(pad_sequences(tokenizer.texts_to_sequences(data), maxlen=maxlen))"
   ]
  },
  {
   "cell_type": "code",
   "execution_count": 21,
   "metadata": {},
   "outputs": [
    {
     "name": "stdout",
     "output_type": "stream",
     "text": [
      "happy\tsad\tdisgust\tangry\tfear\tsurprise\n",
      "3.0\t4.0\t12.0\t9.0\t6.0\t3.0\n",
      "16.0\t4.0\t3.0\t1.0\t2.0\t2.0\n",
      "0.0\t13.0\t2.0\t0.0\t4.0\t0.0\n",
      "2.0\t2.0\t9.0\t14.0\t3.0\t2.0\n",
      "0.0\t4.0\t9.0\t1.0\t31.0\t2.0\n",
      "1.0\t1.0\t1.0\t1.0\t2.0\t21.0\n",
      "24.0\t1.0\t1.0\t0.0\t0.0\t3.0\n",
      "2.0\t1.0\t2.0\t17.0\t5.0\t3.0\n"
     ]
    }
   ],
   "source": [
    "examples = [\n",
    "    \"まじきもい、あいつ\",\n",
    "    \"今日は楽しい一日だったよ\",\n",
    "    \"ペットが死んだ、実に悲しい\",\n",
    "    \"ふざけるな、死ね\",\n",
    "    \"ストーカー怖い\",\n",
    "    \"すごい！ほんとに！？\",\n",
    "    \"葉は植物の構成要素です。\",\n",
    "    \"ホームレスと囚人を集めて革命を起こしたい\"\n",
    "]\n",
    "\n",
    "targets = preprocess(examples, tokenizer, maxlen=maxlen)\n",
    "print('\\t'.join(emolabels))\n",
    "for i, ds in enumerate(model.predict(targets)):\n",
    "    print('\\t'.join([str(round(100.0*d)) for d in ds]))"
   ]
  },
  {
   "cell_type": "code",
   "execution_count": null,
   "metadata": {},
   "outputs": [],
   "source": []
  }
 ],
 "metadata": {
  "kernelspec": {
   "display_name": "Python 3",
   "language": "python",
   "name": "python3"
  },
  "language_info": {
   "codemirror_mode": {
    "name": "ipython",
    "version": 3
   },
   "file_extension": ".py",
   "mimetype": "text/x-python",
   "name": "python",
   "nbconvert_exporter": "python",
   "pygments_lexer": "ipython3",
   "version": "3.6.5"
  }
 },
 "nbformat": 4,
 "nbformat_minor": 2
}
