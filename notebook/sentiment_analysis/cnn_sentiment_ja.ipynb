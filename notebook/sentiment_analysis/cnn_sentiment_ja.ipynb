{
 "cells": [
  {
   "cell_type": "code",
   "execution_count": 7,
   "metadata": {},
   "outputs": [
    {
     "data": {
      "text/plain": [
       "(360000, 11)"
      ]
     },
     "execution_count": 7,
     "metadata": {},
     "output_type": "execute_result"
    }
   ],
   "source": [
    "import pandas as pd\n",
    "from os.path import join\n",
    "from sklearn.utils import shuffle\n",
    "\n",
    "emotions = [\"happy\", \"sad\", [\"disgust\", \"disgust2\"], \"angry\", \"fear\", \"surprise\"]\n",
    "dir_path = \"gathering/ja_tweets_sentiment\"\n",
    "size = 60000\n",
    "df = []\n",
    "for i, es in enumerate(emotions):\n",
    "    if isinstance(es, list):\n",
    "        for e in es:\n",
    "            data = shuffle(pd.read_json(join(dir_path, \"{}.json\".format(e)))).iloc[:int(size/len(es))]\n",
    "            data['label'] = i\n",
    "            df.append(data)\n",
    "    else:\n",
    "        data = shuffle(pd.read_json(join(dir_path, \"{}.json\".format(es)))).iloc[:int(size)]\n",
    "        data['label'] = i\n",
    "        df.append(data)\n",
    "\n",
    "df = pd.concat(df)\n",
    "df.shape"
   ]
  },
  {
   "cell_type": "code",
   "execution_count": 13,
   "metadata": {},
   "outputs": [],
   "source": [
    "df = shuffle(df)"
   ]
  },
  {
   "cell_type": "code",
   "execution_count": 14,
   "metadata": {},
   "outputs": [],
   "source": [
    "X = df['text']\n",
    "y = df['label']"
   ]
  },
  {
   "cell_type": "code",
   "execution_count": 15,
   "metadata": {},
   "outputs": [],
   "source": [
    "from keras.preprocessing.text import Tokenizer\n",
    "from keras.preprocessing.sequence import pad_sequences\n",
    "from keras.utils import to_categorical\n",
    "from sklearn.model_selection import train_test_split\n",
    "\n",
    "max_features=10000\n",
    "maxlen = 280\n",
    "\n",
    "y = to_categorical(y)\n",
    "X_train, X_test, y_train, y_test = train_test_split(X, y)\n",
    "\n",
    "tokenizer = Tokenizer(num_words=max_features, filters=\"\", char_level=True)\n",
    "tokenizer.fit_on_texts(list(X_train))\n",
    "\n",
    "X_train = tokenizer.texts_to_sequences(X_train)\n",
    "X_train = pad_sequences(X_train, maxlen=maxlen)\n",
    "X_test = tokenizer.texts_to_sequences(X_test)\n",
    "X_test = pad_sequences(X_test, maxlen=maxlen)"
   ]
  },
  {
   "cell_type": "code",
   "execution_count": 16,
   "metadata": {},
   "outputs": [],
   "source": [
    "X_train, X_val, y_train, y_val = train_test_split(X_train, y_train)"
   ]
  },
  {
   "cell_type": "code",
   "execution_count": 18,
   "metadata": {},
   "outputs": [
    {
     "data": {
      "text/plain": [
       "((202500, 280), (67500, 280), (90000, 280))"
      ]
     },
     "execution_count": 18,
     "metadata": {},
     "output_type": "execute_result"
    }
   ],
   "source": [
    "X_train.shape, X_val.shape, X_test.shape"
   ]
  },
  {
   "cell_type": "code",
   "execution_count": 19,
   "metadata": {},
   "outputs": [],
   "source": [
    "from keras.layers import Input, Dense, Embedding, Flatten\n",
    "from keras.layers import SpatialDropout1D\n",
    "from keras.layers.convolutional import Conv1D, MaxPooling1D\n",
    "from keras.models import Sequential"
   ]
  },
  {
   "cell_type": "code",
   "execution_count": 20,
   "metadata": {},
   "outputs": [],
   "source": [
    "model = Sequential()\n",
    "model.add(Embedding(max_features, 150, input_length=maxlen))\n",
    "model.add(SpatialDropout1D(0.2))\n",
    "model.add(Conv1D(32, kernel_size=3, padding='same', activation='relu'))\n",
    "model.add(MaxPooling1D(pool_size=2))\n",
    "model.add(Conv1D(64, kernel_size=3, padding='same', activation='relu'))\n",
    "model.add(MaxPooling1D(pool_size=2))\n",
    "model.add(Flatten())\n",
    "model.add(Dense(6, activation='sigmoid'))\n",
    "model.compile(loss='categorical_crossentropy', optimizer='rmsprop', metrics=['accuracy'])"
   ]
  },
  {
   "cell_type": "code",
   "execution_count": 21,
   "metadata": {},
   "outputs": [],
   "source": [
    "epochs = 5\n",
    "batch_size = 1000"
   ]
  },
  {
   "cell_type": "code",
   "execution_count": 23,
   "metadata": {},
   "outputs": [
    {
     "name": "stdout",
     "output_type": "stream",
     "text": [
      "Train on 202500 samples, validate on 67500 samples\n",
      "Epoch 1/5\n",
      "202500/202500 [==============================] - 13s 64us/step - loss: 1.6104 - acc: 0.3170 - val_loss: 1.5540 - val_acc: 0.3643\n",
      "Epoch 2/5\n",
      "202500/202500 [==============================] - 8s 37us/step - loss: 1.4764 - acc: 0.4063 - val_loss: 1.4239 - val_acc: 0.4427\n",
      "Epoch 3/5\n",
      "202500/202500 [==============================] - 8s 37us/step - loss: 1.3935 - acc: 0.4605 - val_loss: 1.3865 - val_acc: 0.4646\n",
      "Epoch 4/5\n",
      "202500/202500 [==============================] - 8s 38us/step - loss: 1.3546 - acc: 0.4802 - val_loss: 1.3696 - val_acc: 0.4755\n",
      "Epoch 5/5\n",
      "202500/202500 [==============================] - 8s 38us/step - loss: 1.3250 - acc: 0.4948 - val_loss: 1.3443 - val_acc: 0.4838\n"
     ]
    },
    {
     "data": {
      "text/plain": [
       "<keras.callbacks.History at 0x7f3052643e80>"
      ]
     },
     "execution_count": 23,
     "metadata": {},
     "output_type": "execute_result"
    }
   ],
   "source": [
    "model.fit(X_train, y_train, validation_data=(X_val, y_val), epochs=epochs, batch_size=batch_size)"
   ]
  },
  {
   "cell_type": "code",
   "execution_count": 25,
   "metadata": {},
   "outputs": [],
   "source": [
    "import numpy as np\n",
    "y_preds = model.predict(X_test)\n",
    "y_preds = np.argmax(y_preds, axis=1)\n",
    "y_true = np.argmax(y_test, axis=1)"
   ]
  },
  {
   "cell_type": "code",
   "execution_count": 26,
   "metadata": {},
   "outputs": [],
   "source": [
    "emolabels = []\n",
    "for e in emotions:\n",
    "    if isinstance(e, list):\n",
    "        emolabels.append(e[0])\n",
    "    else:\n",
    "        emolabels.append(e)"
   ]
  },
  {
   "cell_type": "code",
   "execution_count": 28,
   "metadata": {},
   "outputs": [],
   "source": [
    "from sklearn.metrics import classification_report"
   ]
  },
  {
   "cell_type": "code",
   "execution_count": 30,
   "metadata": {},
   "outputs": [
    {
     "name": "stdout",
     "output_type": "stream",
     "text": [
      "             precision    recall  f1-score   support\n",
      "\n",
      "      happy       0.54      0.55      0.54     15019\n",
      "        sad       0.61      0.50      0.55     14984\n",
      "    disgust       0.39      0.48      0.43     14978\n",
      "      angry       0.41      0.62      0.49     15017\n",
      "       fear       0.58      0.42      0.49     15106\n",
      "   surprise       0.51      0.34      0.41     14896\n",
      "\n",
      "avg / total       0.50      0.48      0.48     90000\n",
      "\n"
     ]
    }
   ],
   "source": [
    "print(classification_report(y_true, y_preds, target_names=emolabels))"
   ]
  },
  {
   "cell_type": "code",
   "execution_count": 31,
   "metadata": {},
   "outputs": [
    {
     "name": "stdout",
     "output_type": "stream",
     "text": [
      "Train on 202500 samples, validate on 67500 samples\n",
      "Epoch 1/5\n",
      "202500/202500 [==============================] - 8s 39us/step - loss: 1.2986 - acc: 0.5057 - val_loss: 1.3401 - val_acc: 0.4885\n",
      "Epoch 2/5\n",
      "202500/202500 [==============================] - 8s 39us/step - loss: 1.2779 - acc: 0.5148 - val_loss: 1.3252 - val_acc: 0.4959\n",
      "Epoch 3/5\n",
      "202500/202500 [==============================] - 8s 39us/step - loss: 1.2583 - acc: 0.5224 - val_loss: 1.3435 - val_acc: 0.4858\n",
      "Epoch 4/5\n",
      "202500/202500 [==============================] - 8s 39us/step - loss: 1.2403 - acc: 0.5298 - val_loss: 1.3372 - val_acc: 0.4908\n",
      "Epoch 5/5\n",
      "202500/202500 [==============================] - 8s 39us/step - loss: 1.2258 - acc: 0.5353 - val_loss: 1.3403 - val_acc: 0.4907\n"
     ]
    },
    {
     "data": {
      "text/plain": [
       "<keras.callbacks.History at 0x7f3052790ef0>"
      ]
     },
     "execution_count": 31,
     "metadata": {},
     "output_type": "execute_result"
    }
   ],
   "source": [
    "model.fit(X_train, y_train, validation_data=(X_val, y_val), epochs=epochs, batch_size=batch_size)"
   ]
  },
  {
   "cell_type": "code",
   "execution_count": 32,
   "metadata": {},
   "outputs": [],
   "source": [
    "y_preds = model.predict(X_test)\n",
    "y_preds = np.argmax(y_preds, axis=1)"
   ]
  },
  {
   "cell_type": "code",
   "execution_count": 33,
   "metadata": {},
   "outputs": [
    {
     "name": "stdout",
     "output_type": "stream",
     "text": [
      "             precision    recall  f1-score   support\n",
      "\n",
      "      happy       0.59      0.48      0.53     15019\n",
      "        sad       0.50      0.59      0.54     14984\n",
      "    disgust       0.40      0.48      0.44     14978\n",
      "      angry       0.43      0.62      0.51     15017\n",
      "       fear       0.56      0.45      0.50     15106\n",
      "   surprise       0.56      0.32      0.41     14896\n",
      "\n",
      "avg / total       0.51      0.49      0.49     90000\n",
      "\n"
     ]
    }
   ],
   "source": [
    "print(classification_report(y_true, y_preds, target_names=emolabels))"
   ]
  },
  {
   "cell_type": "code",
   "execution_count": 34,
   "metadata": {},
   "outputs": [],
   "source": [
    "model.save(\"models/model_2018-08-28-9:33.h5\")"
   ]
  },
  {
   "cell_type": "code",
   "execution_count": 35,
   "metadata": {},
   "outputs": [
    {
     "name": "stdout",
     "output_type": "stream",
     "text": [
      "Train on 202500 samples, validate on 67500 samples\n",
      "Epoch 1/5\n",
      "202500/202500 [==============================] - 8s 39us/step - loss: 1.2101 - acc: 0.5430 - val_loss: 1.3099 - val_acc: 0.5005\n",
      "Epoch 2/5\n",
      "202500/202500 [==============================] - 8s 39us/step - loss: 1.1968 - acc: 0.5485 - val_loss: 1.3232 - val_acc: 0.4991\n",
      "Epoch 3/5\n",
      "202500/202500 [==============================] - 8s 39us/step - loss: 1.1833 - acc: 0.5540 - val_loss: 1.3344 - val_acc: 0.4941\n",
      "Epoch 4/5\n",
      "202500/202500 [==============================] - 8s 39us/step - loss: 1.1699 - acc: 0.5594 - val_loss: 1.3398 - val_acc: 0.4949\n",
      "Epoch 5/5\n",
      "202500/202500 [==============================] - 8s 39us/step - loss: 1.1594 - acc: 0.5637 - val_loss: 1.3323 - val_acc: 0.5007\n"
     ]
    },
    {
     "data": {
      "text/plain": [
       "<keras.callbacks.History at 0x7f3052790e48>"
      ]
     },
     "execution_count": 35,
     "metadata": {},
     "output_type": "execute_result"
    }
   ],
   "source": [
    "model.fit(X_train, y_train, validation_data=(X_val, y_val), epochs=epochs, batch_size=batch_size)"
   ]
  },
  {
   "cell_type": "code",
   "execution_count": 36,
   "metadata": {},
   "outputs": [],
   "source": [
    "y_preds = model.predict(X_test)\n",
    "y_preds = np.argmax(y_preds, axis=1)"
   ]
  },
  {
   "cell_type": "code",
   "execution_count": 37,
   "metadata": {},
   "outputs": [
    {
     "name": "stdout",
     "output_type": "stream",
     "text": [
      "             precision    recall  f1-score   support\n",
      "\n",
      "      happy       0.52      0.60      0.56     15019\n",
      "        sad       0.56      0.54      0.55     14984\n",
      "    disgust       0.40      0.49      0.44     14978\n",
      "      angry       0.45      0.60      0.52     15017\n",
      "       fear       0.66      0.38      0.48     15106\n",
      "   surprise       0.51      0.38      0.44     14896\n",
      "\n",
      "avg / total       0.52      0.50      0.50     90000\n",
      "\n"
     ]
    }
   ],
   "source": [
    "print(classification_report(y_true, y_preds, target_names=emolabels))"
   ]
  },
  {
   "cell_type": "code",
   "execution_count": 38,
   "metadata": {},
   "outputs": [],
   "source": [
    "model.save(\"models/model_2018-08-28-9:34.h5\")"
   ]
  },
  {
   "cell_type": "code",
   "execution_count": 39,
   "metadata": {},
   "outputs": [],
   "source": [
    "def preprocess(data, tokenizer, maxlen=280):\n",
    "    return(pad_sequences(tokenizer.texts_to_sequences(data), maxlen=maxlen))"
   ]
  },
  {
   "cell_type": "code",
   "execution_count": 54,
   "metadata": {},
   "outputs": [
    {
     "name": "stdout",
     "output_type": "stream",
     "text": [
      "happy\tsad\tdisgust\tangry\tfear\tsurprise\n",
      "2.0\t3.0\t7.0\t4.0\t3.0\t2.0\n",
      "10.0\t1.0\t3.0\t1.0\t1.0\t1.0\n",
      "0.0\t23.0\t5.0\t0.0\t1.0\t0.0\n",
      "1.0\t2.0\t9.0\t13.0\t3.0\t1.0\n",
      "0.0\t2.0\t12.0\t2.0\t12.0\t1.0\n",
      "1.0\t2.0\t2.0\t2.0\t2.0\t7.0\n"
     ]
    }
   ],
   "source": [
    "examples = [\n",
    "    \"まじきもい、あいつ\",\n",
    "    \"今日は楽しい一日だったよ\",\n",
    "    \"ペットが死んだ、実に悲しい\",\n",
    "    \"ふざけるな、死ね\",\n",
    "    \"ストーカー怖い\",\n",
    "    \"すごい！ほんとに！？\"\n",
    "]\n",
    "\n",
    "targets = preprocess(examples, tokenizer, maxlen=maxlen)\n",
    "print('\\t'.join(emolabels))\n",
    "for i, ds in enumerate(model.predict(targets)):\n",
    "    print('\\t'.join([str(round(100.0*d)) for d in ds]))\n",
    "\n"
   ]
  },
  {
   "cell_type": "code",
   "execution_count": null,
   "metadata": {},
   "outputs": [],
   "source": []
  }
 ],
 "metadata": {
  "kernelspec": {
   "display_name": "Python 3",
   "language": "python",
   "name": "python3"
  },
  "language_info": {
   "codemirror_mode": {
    "name": "ipython",
    "version": 3
   },
   "file_extension": ".py",
   "mimetype": "text/x-python",
   "name": "python",
   "nbconvert_exporter": "python",
   "pygments_lexer": "ipython3",
   "version": "3.6.5"
  }
 },
 "nbformat": 4,
 "nbformat_minor": 2
}
